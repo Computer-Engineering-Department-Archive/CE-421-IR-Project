{
 "metadata": {
  "kernelspec": {
   "language": "python",
   "display_name": "Python 3",
   "name": "python3"
  },
  "language_info": {
   "name": "python",
   "version": "3.10.12",
   "mimetype": "text/x-python",
   "codemirror_mode": {
    "name": "ipython",
    "version": 3
   },
   "pygments_lexer": "ipython3",
   "nbconvert_exporter": "python",
   "file_extension": ".py"
  },
  "kaggle": {
   "accelerator": "none",
   "dataSources": [
    {
     "sourceId": 7499043,
     "sourceType": "datasetVersion",
     "datasetId": 4366721
    },
    {
     "sourceId": 7499486,
     "sourceType": "datasetVersion",
     "datasetId": 4366980
    }
   ],
   "dockerImageVersionId": 30635,
   "isInternetEnabled": true,
   "language": "python",
   "sourceType": "notebook",
   "isGpuEnabled": false
  }
 },
 "nbformat_minor": 4,
 "nbformat": 4,
 "cells": [
  {
   "cell_type": "markdown",
   "source": [
    "# Loading JSON dataset"
   ],
   "metadata": {}
  },
  {
   "cell_type": "code",
   "source": [
    "import json\n",
    "\n",
    "json_path_12k = 'data/IR_data_news_12k.json'\n",
    "json_path_5k = 'data/IR_data_news_5k.json'\n",
    "\n",
    "f = open(json_path_12k)\n",
    "dataset = json.load(f)\n",
    "print(len(dataset))"
   ],
   "metadata": {
    "execution": {
     "iopub.status.busy": "2024-01-29T07:46:30.324117Z",
     "iopub.execute_input": "2024-01-29T07:46:30.324689Z",
     "iopub.status.idle": "2024-01-29T07:46:31.077401Z",
     "shell.execute_reply.started": "2024-01-29T07:46:30.324639Z",
     "shell.execute_reply": "2024-01-29T07:46:31.076372Z"
    },
    "trusted": true,
    "ExecuteTime": {
     "end_time": "2024-01-31T15:06:43.621501Z",
     "start_time": "2024-01-31T15:06:43.195915Z"
    }
   },
   "execution_count": 1,
   "outputs": [
    {
     "name": "stdout",
     "output_type": "stream",
     "text": [
      "12202\n"
     ]
    }
   ]
  },
  {
   "cell_type": "code",
   "source": [
    "dataset_first_idx = 0\n",
    "dataset_last_idx = len(dataset)-1\n",
    "\n",
    "print(dataset['0'])"
   ],
   "metadata": {
    "execution": {
     "iopub.status.busy": "2024-01-29T07:46:31.080134Z",
     "iopub.execute_input": "2024-01-29T07:46:31.080832Z",
     "iopub.status.idle": "2024-01-29T07:46:31.088717Z",
     "shell.execute_reply.started": "2024-01-29T07:46:31.080788Z",
     "shell.execute_reply": "2024-01-29T07:46:31.086387Z"
    },
    "trusted": true,
    "ExecuteTime": {
     "end_time": "2024-01-31T15:06:43.622554Z",
     "start_time": "2024-01-31T15:06:43.618577Z"
    }
   },
   "execution_count": 2,
   "outputs": [
    {
     "name": "stdout",
     "output_type": "stream",
     "text": [
      "{'title': 'اعلام زمان قرعه کشی جام باشگاه های فوتسال آسیا', 'content': '\\nبه گزارش خبرگزاری فارس، کنفدراسیون فوتبال آسیا (AFC) در نامه ای رسمی به فدراسیون فوتبال ایران و باشگاه گیتی پسند زمان\\xa0 قرعه کشی جام باشگاه های فوتسال آسیا را رسماً اعلام کرد. بر این اساس 25 فروردین ماه 1401 مراسم قرعه کشی جام باشگاه های فوتسال آسیا در مالزی برگزار می شود. باشگاه گیتی پسند بعنوان قهرمان فوتسال ایران در سال 1400 به این مسابقات راه پیدا کرده است. پیش از این گیتی پسند تجربه 3 دوره حضور در جام باشگاه های فوتسال آسیا را داشته که هر سه دوره به فینال مسابقات راه پیدا کرده و یک عنوان قهرمانی و دو مقام دومی بدست آورده است. انتهای پیام/\\n\\n\\n', 'tags': ['اعلام زمان', 'قرعه\\u200cکشی', 'قرعه\\u200cکشی جام', 'قرعه\\u200cکشی جام باشگاه\\u200cهای فوتسال', 'ای اف سی', 'گیتی پسند'], 'date': '3/15/2022 5:59:27 PM', 'url': 'https://www.farsnews.ir/news/14001224001005/اعلام-زمان-قرعه-کشی-جام-باشگاه-های-فوتسال-آسیا', 'category': 'sports'}\n"
     ]
    }
   ]
  },
  {
   "cell_type": "markdown",
   "source": [
    "# Preprocessing"
   ],
   "metadata": {}
  },
  {
   "cell_type": "code",
   "source": [
    "!pip install parsivar\n",
    "!pip install hazm"
   ],
   "metadata": {
    "execution": {
     "iopub.status.busy": "2024-01-29T07:46:31.090212Z",
     "iopub.execute_input": "2024-01-29T07:46:31.090585Z",
     "iopub.status.idle": "2024-01-29T07:46:59.199362Z",
     "shell.execute_reply.started": "2024-01-29T07:46:31.090551Z",
     "shell.execute_reply": "2024-01-29T07:46:59.197369Z"
    },
    "trusted": true,
    "ExecuteTime": {
     "end_time": "2024-01-31T15:06:45.647470Z",
     "start_time": "2024-01-31T15:06:43.622105Z"
    }
   },
   "execution_count": 3,
   "outputs": [
    {
     "name": "stdout",
     "output_type": "stream",
     "text": [
      "Requirement already satisfied: parsivar in /Users/bardiardakanian/miniconda3/lib/python3.10/site-packages (0.2.3.1)\r\n",
      "Requirement already satisfied: nltk>=3.6.6 in /Users/bardiardakanian/miniconda3/lib/python3.10/site-packages (from parsivar) (3.8.1)\r\n",
      "Requirement already satisfied: click in /Users/bardiardakanian/miniconda3/lib/python3.10/site-packages (from nltk>=3.6.6->parsivar) (8.1.7)\r\n",
      "Requirement already satisfied: joblib in /Users/bardiardakanian/miniconda3/lib/python3.10/site-packages (from nltk>=3.6.6->parsivar) (1.3.2)\r\n",
      "Requirement already satisfied: regex>=2021.8.3 in /Users/bardiardakanian/miniconda3/lib/python3.10/site-packages (from nltk>=3.6.6->parsivar) (2023.12.25)\r\n",
      "Requirement already satisfied: tqdm in /Users/bardiardakanian/miniconda3/lib/python3.10/site-packages (from nltk>=3.6.6->parsivar) (4.65.0)\r\n",
      "\r\n",
      "\u001B[1m[\u001B[0m\u001B[34;49mnotice\u001B[0m\u001B[1;39;49m]\u001B[0m\u001B[39;49m A new release of pip is available: \u001B[0m\u001B[31;49m23.1.2\u001B[0m\u001B[39;49m -> \u001B[0m\u001B[32;49m23.3.2\u001B[0m\r\n",
      "\u001B[1m[\u001B[0m\u001B[34;49mnotice\u001B[0m\u001B[1;39;49m]\u001B[0m\u001B[39;49m To update, run: \u001B[0m\u001B[32;49mpip install --upgrade pip\u001B[0m\r\n",
      "Requirement already satisfied: hazm in /Users/bardiardakanian/miniconda3/lib/python3.10/site-packages (0.10.0)\r\n",
      "Requirement already satisfied: fasttext-wheel<0.10.0,>=0.9.2 in /Users/bardiardakanian/miniconda3/lib/python3.10/site-packages (from hazm) (0.9.2)\r\n",
      "Requirement already satisfied: flashtext<3.0,>=2.7 in /Users/bardiardakanian/miniconda3/lib/python3.10/site-packages (from hazm) (2.7)\r\n",
      "Requirement already satisfied: gensim<5.0.0,>=4.3.1 in /Users/bardiardakanian/miniconda3/lib/python3.10/site-packages (from hazm) (4.3.2)\r\n",
      "Requirement already satisfied: nltk<4.0.0,>=3.8.1 in /Users/bardiardakanian/miniconda3/lib/python3.10/site-packages (from hazm) (3.8.1)\r\n",
      "Requirement already satisfied: numpy==1.24.3 in /Users/bardiardakanian/miniconda3/lib/python3.10/site-packages (from hazm) (1.24.3)\r\n",
      "Requirement already satisfied: python-crfsuite<0.10.0,>=0.9.9 in /Users/bardiardakanian/miniconda3/lib/python3.10/site-packages (from hazm) (0.9.10)\r\n",
      "Requirement already satisfied: scikit-learn<2.0.0,>=1.2.2 in /Users/bardiardakanian/miniconda3/lib/python3.10/site-packages (from hazm) (1.4.0)\r\n",
      "Requirement already satisfied: pybind11>=2.2 in /Users/bardiardakanian/miniconda3/lib/python3.10/site-packages (from fasttext-wheel<0.10.0,>=0.9.2->hazm) (2.11.1)\r\n",
      "Requirement already satisfied: setuptools>=0.7.0 in /Users/bardiardakanian/miniconda3/lib/python3.10/site-packages (from fasttext-wheel<0.10.0,>=0.9.2->hazm) (65.6.3)\r\n",
      "Requirement already satisfied: scipy>=1.7.0 in /Users/bardiardakanian/miniconda3/lib/python3.10/site-packages (from gensim<5.0.0,>=4.3.1->hazm) (1.12.0)\r\n",
      "Requirement already satisfied: smart-open>=1.8.1 in /Users/bardiardakanian/miniconda3/lib/python3.10/site-packages (from gensim<5.0.0,>=4.3.1->hazm) (6.4.0)\r\n",
      "Requirement already satisfied: click in /Users/bardiardakanian/miniconda3/lib/python3.10/site-packages (from nltk<4.0.0,>=3.8.1->hazm) (8.1.7)\r\n",
      "Requirement already satisfied: joblib in /Users/bardiardakanian/miniconda3/lib/python3.10/site-packages (from nltk<4.0.0,>=3.8.1->hazm) (1.3.2)\r\n",
      "Requirement already satisfied: regex>=2021.8.3 in /Users/bardiardakanian/miniconda3/lib/python3.10/site-packages (from nltk<4.0.0,>=3.8.1->hazm) (2023.12.25)\r\n",
      "Requirement already satisfied: tqdm in /Users/bardiardakanian/miniconda3/lib/python3.10/site-packages (from nltk<4.0.0,>=3.8.1->hazm) (4.65.0)\r\n",
      "Requirement already satisfied: threadpoolctl>=2.0.0 in /Users/bardiardakanian/miniconda3/lib/python3.10/site-packages (from scikit-learn<2.0.0,>=1.2.2->hazm) (3.2.0)\r\n",
      "\r\n",
      "\u001B[1m[\u001B[0m\u001B[34;49mnotice\u001B[0m\u001B[1;39;49m]\u001B[0m\u001B[39;49m A new release of pip is available: \u001B[0m\u001B[31;49m23.1.2\u001B[0m\u001B[39;49m -> \u001B[0m\u001B[32;49m23.3.2\u001B[0m\r\n",
      "\u001B[1m[\u001B[0m\u001B[34;49mnotice\u001B[0m\u001B[1;39;49m]\u001B[0m\u001B[39;49m To update, run: \u001B[0m\u001B[32;49mpip install --upgrade pip\u001B[0m\r\n"
     ]
    }
   ]
  },
  {
   "cell_type": "markdown",
   "source": [
    "## Normalizer"
   ],
   "metadata": {}
  },
  {
   "cell_type": "code",
   "source": [
    "import pickle\n",
    "import re\n",
    "from re import sub\n",
    "import string\n",
    "\n",
    "def preprocess(text_doc):\n",
    "    \n",
    "    def add_space(text_pattern):\n",
    "        text_pattern = text_pattern.group() \n",
    "        text_pattern = text_pattern.strip(' ') \n",
    "        text_pattern = \" \" + text_pattern + \" \"\n",
    "        return text_pattern\n",
    "\n",
    "    def eliminate_pattern(text_pattern):\n",
    "        return \"\"\n",
    "\n",
    "    # Store original emails and IDs\n",
    "    emails = re.findall(r'\\S+@\\S+', text_doc)\n",
    "    ids = re.findall(r'\\b(?:[A-Za-z]{2}\\d{6}|\\d{9})\\b', text_doc)\n",
    "\n",
    "    # Replace emails and IDs with placeholders\n",
    "    text_doc = re.sub(r'\\S+@\\S+', 'EMAILADDRESS', text_doc)\n",
    "    text_doc = re.sub(r'\\b(?:[A-Za-z]{2}\\d{6}|\\d{9})\\b', 'IDPLACEHOLDER', text_doc)\n",
    "\n",
    "    # Handle unwanted characters\n",
    "    unwanted_chars = r')(}{:؟!،؛»«.' + r\"/<>?.,:;\"\n",
    "    unwanted_chars = '[' + unwanted_chars + string.punctuation + ']'\n",
    "    unwanted_chars = unwanted_chars.replace(\"@\", \"\")\n",
    "\n",
    "    # Replace numbers with a placeholder\n",
    "    pattern = r\"[-+]?\\d*\\.\\d+|\\d+\"\n",
    "    nums_list = re.findall(pattern, text_doc)\n",
    "    text_doc = re.sub(pattern, 'floatingpointnumber', text_doc)\n",
    "\n",
    "    # Add space around unwanted characters\n",
    "    pattern = '\\s*' + unwanted_chars + '+' + '\\s*'\n",
    "    text_doc = re.sub(pattern, add_space, text_doc)\n",
    "\n",
    "    # Replace newline characters with spaces\n",
    "    pattern = r'[\\n]+'\n",
    "    text_doc = re.sub(pattern, \" \", text_doc)\n",
    "\n",
    "    # Remove unwanted characters\n",
    "    unwanted_chars = r\")(}{:؟!-،؛»«.@$&%\" + r\"/<>?.,:;\"\n",
    "    english_chars = r\"a-zA-Z0-9\"\n",
    "    pattern = r'[^' + unwanted_chars + english_chars + 'آ-ی' + '‌' + '\\d\\s:]'\n",
    "    text_doc = re.sub(pattern, eliminate_pattern, text_doc)\n",
    "\n",
    "    # Replace multiple spaces with a single space\n",
    "    pattern = r'[ ]+'\n",
    "    text_doc = re.sub(pattern, ' ', text_doc)\n",
    "\n",
    "    # Replace the placeholders with the original numbers\n",
    "    for number in nums_list:\n",
    "        text_doc = re.sub('floatingpointnumber', number, text_doc, 1)\n",
    "        \n",
    "    # Replace placeholders with original emails and IDs\n",
    "    for email in emails:\n",
    "        text_doc = text_doc.replace('EMAILADDRESS', email, 1)\n",
    "        \n",
    "    for idx in ids:\n",
    "        text_doc = text_doc.replace('IDPLACEHOLDER', idx, 1)\n",
    "\n",
    "    return text_doc.strip()\n",
    "\n",
    "def unicode_replacement(text_doc):\n",
    "    replacements = [\n",
    "        (r\"ء\", r\"ئ\"), (r\"ٲ|ٱ|إ|ﺍ|أ\", r\"ا\"), (r\"ﺁ|آ\", r\"آ\"),\n",
    "        (r\"ﺐ|ﺏ|ﺑ\", r\"ب\"), (r\"ﭖ|ﭗ|ﭙ|ﺒ|ﭘ\", r\"پ\"),\n",
    "        (r\"ﭡ|ٺ|ٹ|ﭞ|ٿ|ټ|ﺕ|ﺗ|ﺖ|ﺘ\", r\"ت\"),\n",
    "        (r\"ﺙ|ﺛ\", r\"ث\"), (r\"ﺝ|ڃ|ﺠ|ﺟ\", r\"ج\"),\n",
    "        (r\"ڃ|ﭽ|ﭼ\", r\"چ\"), (r\"ﺢ|ﺤ|څ|ځ|ﺣ\", r\"ح\"),\n",
    "        (r\"ﺥ|ﺦ|ﺨ|ﺧ\", r\"خ\"), (r\"ڏ|ډ|ﺪ|ﺩ\", r\"د\"),\n",
    "        (r\"ﺫ|ﺬ|ﻧ\", r\"ذ\"), (r\"ڙ|ڗ|ڒ|ڑ|ڕ|ﺭ|ﺮ\", r\"ر\"),\n",
    "        (r\"ﺰ|ﺯ\", r\"ز\"), (r\"ﮊ\", r\"ژ\"), \n",
    "        (r\"ݭ|ݜ|ﺱ|ﺲ|ښ|ﺴ|ﺳ\", r\"س\"), (r\"ﺵ|ﺶ|ﺸ|ﺷ\", r\"ش\"),\n",
    "        (r\"ﺺ|ﺼ|ﺻ\", r\"ص\"), (r\"ﺽ|ﺾ|ﺿ|ﻀ\", r\"ض\"),\n",
    "        (r\"ﻁ|ﻂ|ﻃ|ﻄ\", r\"ط\"), (r\"ﻆ|ﻇ|ﻈ\", r\"ظ\"),\n",
    "        (r\"ڠ|ﻉ|ﻊ|ﻋ\", r\"ع\"), (r\"ﻎ|ۼ|ﻍ|ﻐ|ﻏ\", r\"غ\"),\n",
    "        (r\"ﻒ|ﻑ|ﻔ|ﻓ\", r\"ف\"), (r\"ﻕ|ڤ|ﻖ|ﻗ\", r\"ق\"),\n",
    "        (r\"ڭ|ﻚ|ﮎ|ﻜ|ﮏ|ګ|ﻛ|ﮑ|ﮐ|ڪ|ك\", r\"ک\"), \n",
    "        (r\"ﮚ|ﮒ|ﮓ|ﮕ|ﮔ\", r\"گ\"), \n",
    "        (r\"ﻝ|ﻞ|ﻠ|ڵ\", r\"ل\"), (r\"ﻡ|ﻤ|ﻢ|ﻣ\", r\"م\"),\n",
    "        (r\"ڼ|ﻦ|ﻥ|ﻨ\", r\"ن\"), \n",
    "        (r\"ވ|ﯙ|ۈ|ۋ|ﺆ|ۊ|ۇ|ۏ|ۅ|ۉ|ﻭ|ﻮ|ؤ\", r\"و\"),\n",
    "        (r\"ﺔ|ﻬ|ھ|ﻩ|ﻫ|ﻪ|ۀ|ە|ة|ہ\", r\"ه\"),\n",
    "        (r\"ﭛ|ﻯ|ۍ|ﻰ|ﻱ|ﻲ|ں|ﻳ|ﻴ|ﯼ|ې|ﯽ|ﯾ|ﯿ|ێ|ے|ى|ي\", r\"ی\")\n",
    "    ]\n",
    "\n",
    "    # Process each replacement\n",
    "    normalized_arabic = text_doc\n",
    "    for pattern, replacement in replacements:\n",
    "        text_doc = sub(pattern, replacement, text_doc)\n",
    "    \n",
    "    # Normalize numbers\n",
    "    number_variants = [(r'۰|٠|0', r'۰'), (r'۱|١|1', r'۱'), (r'۲|٢|2', r'۲'), \n",
    "                       (r'۳|٣|3', r'۳'), (r'۴|٤|4', r'۴'), (r'۵|5', r'۵'), \n",
    "                       (r'۶|٦|6', r'۶'), (r'۷|٧|7', r'۷'), (r'۸|٨|8', r'۸'), \n",
    "                       (r'۹|٩|9', r'۹')]\n",
    "\n",
    "    normalized_numbers = normalized_arabic\n",
    "    for variant, standard in number_variants:\n",
    "        normalized_numbers = sub(variant, standard, normalized_numbers)\n",
    "    \n",
    "    # Replace unicode symbols\n",
    "    unicode_replacements = [\n",
    "        (r'﷽', r'بسم-الله-الرحمن-الرحیم'), (r'ﷻ', r'الله-جل-جلاله'), \n",
    "        (r'ﷺ', r'صلی-الله-علیه-وسلم'), (r'ﷲ', r'اله'), \n",
    "        (r'ﷳ', r'اکبر'), (r'ﷴ', r'محمد'), (r'ﷵ', r'صلی-الله-علیه-وسلم'), \n",
    "        (r'ﷶ', r'رسول'), (r'ﷷ', r'علیه-سلام'), (r'ﷸ|ﷹ', r'صلی-الله-علیه-وسلم'), \n",
    "        (r'%|٪', r'درصد')\n",
    "    ]\n",
    "\n",
    "    replaced_unicode = normalized_numbers\n",
    "    for symbol, replacement in unicode_replacements:\n",
    "        replaced_unicode = sub(symbol, replacement, replaced_unicode)\n",
    "    \n",
    "    return replaced_unicode\n",
    "\n",
    "def unicode_remove(text_doc):\n",
    "    # Replace various bullet point with a period\n",
    "    bullet_points = r'•|·|●|·|・|∙|｡|ⴰ'\n",
    "    replace_with_period = r'.'\n",
    "    text_with_replaced_bullets = sub(bullet_points, replace_with_period, text_doc)\n",
    "\n",
    "    # Replace various comma with a standard comma\n",
    "    comma_variants = r',|٬|٫|‚|，'\n",
    "    standard_comma = r'،'\n",
    "    text_with_standard_comma = sub(comma_variants, standard_comma, text_with_replaced_bullets)\n",
    "\n",
    "    # Remove arabic punctuation characters\n",
    "    remove_punctuation = r'\\ʕ|\\.|؛|:|\\<|\\>|\\«|\\»|\\!|،|\\؟'\n",
    "    text_without_punctuation = sub(remove_punctuation, '', text_with_standard_comma)\n",
    "\n",
    "    # Remove english punctuation characters\n",
    "    additional_punctuation = r'\\.|\\?|\\!|\\<|\\>|\\(|\\)|;|:'\n",
    "    text_without_additional_punctuation = sub(additional_punctuation, '', text_without_punctuation)\n",
    "\n",
    "    # Remove Arabic vowel\n",
    "    arabic_vowel_marks = r'ـ|ِ|ُ|َ|ٍ|ٌ|ً|'\n",
    "    text_without_vowel_marks = sub(arabic_vowel_marks, '', text_without_additional_punctuation)\n",
    "\n",
    "    # Normalize spaces and newlines\n",
    "    multiple_spaces = r'( )+'\n",
    "    single_space = r' '\n",
    "    text_normalized_spaces = sub(multiple_spaces, single_space, text_without_vowel_marks)\n",
    "\n",
    "    multiple_newlines = r'(\\n)+'\n",
    "    single_newline = r'\\n'\n",
    "    text_normalized_newlines = sub(multiple_newlines, single_newline, text_normalized_spaces)\n",
    "\n",
    "    return text_normalized_newlines\n",
    "\n",
    "def space_correction(text_doc):\n",
    "    # Handle half-space\n",
    "    start_half_space_pattern = r'^(می|نمی)( )'\n",
    "    replace_with_half_space = r'\\1‌'\n",
    "    text_with_start_half_space = sub(start_half_space_pattern, replace_with_half_space, text_doc)\n",
    "\n",
    "    # Add half-space\n",
    "    middle_half_space_pattern = r'( )(می|نمی)( )'\n",
    "    replace_middle_with_half_space = r'\\1\\2‌'\n",
    "    text_with_middle_half_space = sub(middle_half_space_pattern, replace_middle_with_half_space, text_with_start_half_space)\n",
    "\n",
    "    # Correct spacing\n",
    "    suffix_spacing_pattern = r'( )(ی|ای|ها|های|هایی|تر|ترین|گر|گری|ام|ات|اش)( )'\n",
    "    replace_suffix_spacing = r'‌\\2\\3'\n",
    "    corrected_text = sub(suffix_spacing_pattern, replace_suffix_spacing, text_with_middle_half_space)\n",
    "    \n",
    "    return corrected_text\n",
    "\n",
    "def normalize(doc_string):\n",
    "    normalized_string = unicode_replacement(doc_string)\n",
    "    normalized_string = unicode_remove(normalized_string)\n",
    "    normalized_string = preprocess(normalized_string).strip()\n",
    "    normalized_string = space_correction(normalized_string).strip()\n",
    "\n",
    "    return normalized_string"
   ],
   "metadata": {
    "execution": {
     "iopub.status.busy": "2024-01-29T07:46:59.201702Z",
     "iopub.execute_input": "2024-01-29T07:46:59.202130Z",
     "iopub.status.idle": "2024-01-29T07:46:59.227511Z",
     "shell.execute_reply.started": "2024-01-29T07:46:59.202089Z",
     "shell.execute_reply": "2024-01-29T07:46:59.226650Z"
    },
    "trusted": true,
    "ExecuteTime": {
     "end_time": "2024-01-31T15:06:45.661612Z",
     "start_time": "2024-01-31T15:06:45.659669Z"
    }
   },
   "execution_count": 4,
   "outputs": []
  },
  {
   "cell_type": "markdown",
   "source": [
    "## Tokenizer"
   ],
   "metadata": {}
  },
  {
   "cell_type": "code",
   "source": [
    "def tokenize(doc_string):\n",
    "    token_list = doc_string.strip().split()\n",
    "\n",
    "    # Half space\n",
    "    token_list = [token.strip(\"\\u200c\") for token in token_list if len(token.strip(\"\\u200c\")) != 0]\n",
    "\n",
    "    return token_list\n"
   ],
   "metadata": {
    "execution": {
     "iopub.status.busy": "2024-01-29T07:46:59.230927Z",
     "iopub.execute_input": "2024-01-29T07:46:59.231780Z",
     "iopub.status.idle": "2024-01-29T07:46:59.243300Z",
     "shell.execute_reply.started": "2024-01-29T07:46:59.231743Z",
     "shell.execute_reply": "2024-01-29T07:46:59.242009Z"
    },
    "trusted": true,
    "ExecuteTime": {
     "end_time": "2024-01-31T15:06:45.664595Z",
     "start_time": "2024-01-31T15:06:45.662378Z"
    }
   },
   "execution_count": 5,
   "outputs": []
  },
  {
   "cell_type": "code",
   "source": [
    "# # tmp_data = '.می توانید با ایمیل زیر با ما در ارتباط باشید و کیمیا گری کنید bardia@gmail.com'\n",
    "# # tmp_data = 'سلامي و سلاٍل'\n",
    "# # tmp_data = 'ارام و آرام و أرام'\n",
    "# # tmp_data = 'علاعم نگارشی داریم ویرگول، و ؛ و « و » و < و > و ! و ؟ داریم'\n",
    "# tmp_data = 'بسم الله رو داریم ﷽'\n",
    "\n",
    "# words = tokenize(normalize(tmp_data))\n",
    "\n",
    "# words"
   ],
   "metadata": {
    "execution": {
     "iopub.status.busy": "2024-01-29T07:46:59.244953Z",
     "iopub.execute_input": "2024-01-29T07:46:59.245322Z",
     "iopub.status.idle": "2024-01-29T07:46:59.254456Z",
     "shell.execute_reply.started": "2024-01-29T07:46:59.245289Z",
     "shell.execute_reply": "2024-01-29T07:46:59.252752Z"
    },
    "trusted": true,
    "ExecuteTime": {
     "end_time": "2024-01-31T15:06:45.666848Z",
     "start_time": "2024-01-31T15:06:45.665108Z"
    }
   },
   "execution_count": 6,
   "outputs": []
  },
  {
   "cell_type": "code",
   "source": [
    "words = tokenize(normalize(dataset['0']['content']))\n",
    "\n",
    "words"
   ],
   "metadata": {
    "execution": {
     "iopub.status.busy": "2024-01-29T07:46:59.255946Z",
     "iopub.execute_input": "2024-01-29T07:46:59.256651Z",
     "iopub.status.idle": "2024-01-29T07:46:59.292508Z",
     "shell.execute_reply.started": "2024-01-29T07:46:59.256623Z",
     "shell.execute_reply": "2024-01-29T07:46:59.291252Z"
    },
    "trusted": true,
    "ExecuteTime": {
     "end_time": "2024-01-31T15:06:45.712015Z",
     "start_time": "2024-01-31T15:06:45.677872Z"
    }
   },
   "execution_count": 7,
   "outputs": [
    {
     "data": {
      "text/plain": "['به',\n 'گزارش',\n 'خبرگزاری',\n 'فارس',\n 'کنفدراسیون',\n 'فوتبال',\n 'آسیا',\n 'AFC',\n 'در',\n 'نامه\\u200cای',\n 'رسمی',\n 'به',\n 'فدراسیون',\n 'فوتبال',\n 'ایران',\n 'و',\n 'باشگاه',\n 'گیتی',\n 'پسند',\n 'زمان',\n 'قرعه',\n 'کشی',\n 'جام',\n 'باشگاه\\u200cهای',\n 'فوتسال',\n 'آسیا',\n 'را',\n 'رسما',\n 'اعلام',\n 'کرد',\n 'بر',\n 'این',\n 'اساس',\n '۲۵',\n 'فروردین',\n 'ماه',\n '۱۴۰۱',\n 'مراسم',\n 'قرعه',\n 'کشی',\n 'جام',\n 'باشگاه\\u200cهای',\n 'فوتسال',\n 'آسیا',\n 'در',\n 'مالزی',\n 'برگزار',\n 'می\\u200cشود',\n 'باشگاه',\n 'گیتی',\n 'پسند',\n 'بعنوان',\n 'قهرمان',\n 'فوتسال',\n 'ایران',\n 'در',\n 'سال',\n '۱۴۰۰',\n 'به',\n 'این',\n 'مسابقات',\n 'راه',\n 'پیدا',\n 'کرده',\n 'است',\n 'پیش',\n 'از',\n 'این',\n 'گیتی',\n 'پسند',\n 'تجربه',\n '۳',\n 'دوره',\n 'حضور',\n 'در',\n 'جام',\n 'باشگاه\\u200cهای',\n 'فوتسال',\n 'آسیا',\n 'را',\n 'داشته',\n 'که',\n 'هر',\n 'سه',\n 'دوره',\n 'به',\n 'فینال',\n 'مسابقات',\n 'راه',\n 'پیدا',\n 'کرده',\n 'و',\n 'یک',\n 'عنوان',\n 'قهرمانی',\n 'و',\n 'دو',\n 'مقام',\n 'دومی',\n 'بدست',\n 'آورده',\n 'است',\n 'انتهای',\n 'پیام',\n '/']"
     },
     "execution_count": 7,
     "metadata": {},
     "output_type": "execute_result"
    }
   ]
  },
  {
   "cell_type": "markdown",
   "source": [
    "## Tokenizing and normalizing the whole data"
   ],
   "metadata": {}
  },
  {
   "cell_type": "code",
   "source": [
    "from concurrent.futures import ThreadPoolExecutor, as_completed\n",
    "from tqdm import tqdm\n",
    "\n",
    "def process_content(key):\n",
    "    words = tokenize(normalize(dataset[key]['content']))\n",
    "    # words = tokenize(dataset[key]['content'])\n",
    "    return key, words\n",
    "\n",
    "tokenized = {}\n",
    "\n",
    "num_threads = 4\n",
    "\n",
    "with ThreadPoolExecutor(max_workers=num_threads) as executor:\n",
    "    # Create a dictionary of future tasks\n",
    "    futures = {executor.submit(process_content, key): key for key in dataset}\n",
    "\n",
    "    # Use tqdm to display progress\n",
    "    for future in tqdm(as_completed(futures), total=len(dataset), desc=\"Tokenizing\"):\n",
    "        key, words = future.result()\n",
    "        tokenized[key] = words"
   ],
   "metadata": {
    "execution": {
     "iopub.status.busy": "2024-01-29T07:46:59.294497Z",
     "iopub.execute_input": "2024-01-29T07:46:59.294977Z",
     "iopub.status.idle": "2024-01-29T07:47:13.878437Z",
     "shell.execute_reply.started": "2024-01-29T07:46:59.294944Z",
     "shell.execute_reply": "2024-01-29T07:47:13.877163Z"
    },
    "trusted": true,
    "ExecuteTime": {
     "end_time": "2024-01-31T15:07:05.653339Z",
     "start_time": "2024-01-31T15:06:45.681666Z"
    }
   },
   "execution_count": 8,
   "outputs": [
    {
     "name": "stderr",
     "output_type": "stream",
     "text": [
      "Tokenizing: 100%|██████████| 12202/12202 [00:17<00:00, 679.29it/s] \n"
     ]
    }
   ]
  },
  {
   "cell_type": "code",
   "source": [
    "total_tokens = sum(len(tokens) for tokens in tokenized.values())\n",
    "\n",
    "print(f\"Total number of tokens in the dataset: {total_tokens}\")"
   ],
   "metadata": {
    "execution": {
     "iopub.status.busy": "2024-01-29T07:47:13.879729Z",
     "iopub.execute_input": "2024-01-29T07:47:13.880588Z",
     "iopub.status.idle": "2024-01-29T07:47:13.888714Z",
     "shell.execute_reply.started": "2024-01-29T07:47:13.880559Z",
     "shell.execute_reply": "2024-01-29T07:47:13.887215Z"
    },
    "trusted": true,
    "ExecuteTime": {
     "end_time": "2024-01-31T15:07:05.656599Z",
     "start_time": "2024-01-31T15:07:05.652879Z"
    }
   },
   "execution_count": 9,
   "outputs": [
    {
     "name": "stdout",
     "output_type": "stream",
     "text": [
      "Total number of tokens in the dataset: 4554642\n"
     ]
    }
   ]
  },
  {
   "cell_type": "code",
   "source": [
    "print(tokenized['0'])"
   ],
   "metadata": {
    "execution": {
     "iopub.status.busy": "2024-01-29T07:47:13.890343Z",
     "iopub.execute_input": "2024-01-29T07:47:13.890668Z",
     "iopub.status.idle": "2024-01-29T07:47:13.903218Z",
     "shell.execute_reply.started": "2024-01-29T07:47:13.890642Z",
     "shell.execute_reply": "2024-01-29T07:47:13.901966Z"
    },
    "trusted": true,
    "ExecuteTime": {
     "end_time": "2024-01-31T15:07:05.661706Z",
     "start_time": "2024-01-31T15:07:05.659200Z"
    }
   },
   "execution_count": 10,
   "outputs": [
    {
     "name": "stdout",
     "output_type": "stream",
     "text": [
      "['به', 'گزارش', 'خبرگزاری', 'فارس', 'کنفدراسیون', 'فوتبال', 'آسیا', 'AFC', 'در', 'نامه\\u200cای', 'رسمی', 'به', 'فدراسیون', 'فوتبال', 'ایران', 'و', 'باشگاه', 'گیتی', 'پسند', 'زمان', 'قرعه', 'کشی', 'جام', 'باشگاه\\u200cهای', 'فوتسال', 'آسیا', 'را', 'رسما', 'اعلام', 'کرد', 'بر', 'این', 'اساس', '۲۵', 'فروردین', 'ماه', '۱۴۰۱', 'مراسم', 'قرعه', 'کشی', 'جام', 'باشگاه\\u200cهای', 'فوتسال', 'آسیا', 'در', 'مالزی', 'برگزار', 'می\\u200cشود', 'باشگاه', 'گیتی', 'پسند', 'بعنوان', 'قهرمان', 'فوتسال', 'ایران', 'در', 'سال', '۱۴۰۰', 'به', 'این', 'مسابقات', 'راه', 'پیدا', 'کرده', 'است', 'پیش', 'از', 'این', 'گیتی', 'پسند', 'تجربه', '۳', 'دوره', 'حضور', 'در', 'جام', 'باشگاه\\u200cهای', 'فوتسال', 'آسیا', 'را', 'داشته', 'که', 'هر', 'سه', 'دوره', 'به', 'فینال', 'مسابقات', 'راه', 'پیدا', 'کرده', 'و', 'یک', 'عنوان', 'قهرمانی', 'و', 'دو', 'مقام', 'دومی', 'بدست', 'آورده', 'است', 'انتهای', 'پیام', '/']\n"
     ]
    }
   ]
  },
  {
   "cell_type": "markdown",
   "source": [
    "## Remove stopping words"
   ],
   "metadata": {}
  },
  {
   "cell_type": "code",
   "source": [
    "from collections import Counter\n",
    "\n",
    "def count_words(token_lists):\n",
    "    word_counter = Counter()\n",
    "    for tokens in token_lists:\n",
    "        word_counter.update(tokens)\n",
    "    return word_counter\n",
    "\n",
    "def chunks(data, SIZE):\n",
    "    it = iter(data)\n",
    "    for i in range(0, len(data), SIZE):\n",
    "        yield {k: data[k] for k in list(data)[i:i + SIZE]}\n",
    "\n",
    "chunked_data = list(chunks(tokenized, len(tokenized) // 4))\n",
    "\n",
    "word_counts = Counter()\n",
    "with ThreadPoolExecutor(max_workers=4) as executor:\n",
    "    futures = {executor.submit(count_words, chunk.values()): chunk for chunk in chunked_data}\n",
    "    for future in tqdm(as_completed(futures), total=len(chunked_data), desc=\"Counting Words\"):\n",
    "        word_counts.update(future.result())\n",
    "\n",
    "stop_words = set([word for word, count in word_counts.most_common(50)])\n",
    "print(stop_words)"
   ],
   "metadata": {
    "execution": {
     "iopub.status.busy": "2024-01-29T07:47:13.904584Z",
     "iopub.execute_input": "2024-01-29T07:47:13.905012Z",
     "iopub.status.idle": "2024-01-29T07:47:14.326503Z",
     "shell.execute_reply.started": "2024-01-29T07:47:13.904978Z",
     "shell.execute_reply": "2024-01-29T07:47:14.325034Z"
    },
    "trusted": true,
    "ExecuteTime": {
     "end_time": "2024-01-31T15:07:06.148104Z",
     "start_time": "2024-01-31T15:07:05.772996Z"
    }
   },
   "execution_count": 11,
   "outputs": [
    {
     "name": "stderr",
     "output_type": "stream",
     "text": [
      "Counting Words: 100%|██████████| 5/5 [00:00<00:00, 237.42it/s]"
     ]
    },
    {
     "name": "stdout",
     "output_type": "stream",
     "text": [
      "{'داشت', 'شد', 'که', 'اسلامی', 'دولت', 'کند', 'مجلس', 'آن', 'انتهای', 'یک', 'با', 'به', 'کرد', 'کشور', 'اما', 'دارد', 'خبرگزاری', 'در', 'باید', 'شده', 'را', 'سال', '/', 'دو', 'است', 'بر', 'این', 'تیم', 'هم', 'ایران', 'تا', 'پیام', 'اینکه', 'رئیس', 'گزارش', 'شود', 'ما', 'قرار', 'برای', 'بازی', 'مردم', 'ملی', '-', 'گفت', 'خود', 'و', 'بود', 'فارس', 'وی', 'از'}\n"
     ]
    },
    {
     "name": "stderr",
     "output_type": "stream",
     "text": [
      "\n"
     ]
    }
   ]
  },
  {
   "cell_type": "code",
   "source": [
    "def remove_top_words_and_count(tokens):\n",
    "    initial_count = len(tokens)\n",
    "    filtered_tokens = [word for word in tokens if word not in stop_words]\n",
    "    removed_count = initial_count - len(filtered_tokens)\n",
    "    return filtered_tokens, removed_count\n",
    "\n",
    "total_removed_tokens = 0\n",
    "removed_tokenized = {}\n",
    "\n",
    "with ThreadPoolExecutor(max_workers=4) as executor:\n",
    "    futures = {executor.submit(remove_top_words_and_count, tokenized[key]): key for key in tokenized}\n",
    "    for future in tqdm(as_completed(futures), total=len(tokenized), desc=\"Removing Top Words\"):\n",
    "        result = future.result()\n",
    "        if isinstance(result, tuple) and len(result) == 2:\n",
    "            key = futures[future]\n",
    "            filtered_tokens, removed_count = result\n",
    "            removed_tokenized[key] = filtered_tokens\n",
    "            total_removed_tokens += removed_count\n",
    "        else:\n",
    "            print(f\"Unexpected result format: {result}\")\n",
    "\n",
    "print(f\"Top 50 most frequent words removed from tokenized data. Total tokens removed: {total_removed_tokens}\")"
   ],
   "metadata": {
    "execution": {
     "iopub.status.busy": "2024-01-29T07:47:14.327745Z",
     "iopub.execute_input": "2024-01-29T07:47:14.328116Z",
     "iopub.status.idle": "2024-01-29T07:47:14.842488Z",
     "shell.execute_reply.started": "2024-01-29T07:47:14.328087Z",
     "shell.execute_reply": "2024-01-29T07:47:14.841005Z"
    },
    "trusted": true,
    "ExecuteTime": {
     "end_time": "2024-01-31T15:07:06.708787Z",
     "start_time": "2024-01-31T15:07:06.137304Z"
    }
   },
   "execution_count": 12,
   "outputs": [
    {
     "name": "stderr",
     "output_type": "stream",
     "text": [
      "Removing Top Words: 100%|██████████| 12202/12202 [00:00<00:00, 408897.98it/s]"
     ]
    },
    {
     "name": "stdout",
     "output_type": "stream",
     "text": [
      "Top 50 most frequent words removed from tokenized data. Total tokens removed: 1558730\n"
     ]
    },
    {
     "name": "stderr",
     "output_type": "stream",
     "text": [
      "\n"
     ]
    }
   ]
  },
  {
   "cell_type": "code",
   "source": [
    "total_tokens_filtered = sum(len(tokens) for tokens in removed_tokenized.values())\n",
    "\n",
    "print(f\"Total number of tokens in the dataset after removing stopping words: {total_tokens_filtered}\")"
   ],
   "metadata": {
    "execution": {
     "iopub.status.busy": "2024-01-29T07:47:14.844149Z",
     "iopub.execute_input": "2024-01-29T07:47:14.844444Z",
     "iopub.status.idle": "2024-01-29T07:47:14.851061Z",
     "shell.execute_reply.started": "2024-01-29T07:47:14.844416Z",
     "shell.execute_reply": "2024-01-29T07:47:14.850075Z"
    },
    "trusted": true,
    "ExecuteTime": {
     "end_time": "2024-01-31T15:07:06.713084Z",
     "start_time": "2024-01-31T15:07:06.710305Z"
    }
   },
   "execution_count": 13,
   "outputs": [
    {
     "name": "stdout",
     "output_type": "stream",
     "text": [
      "Total number of tokens in the dataset after removing stopping words: 2995912\n"
     ]
    }
   ]
  },
  {
   "cell_type": "code",
   "source": [
    "print(removed_tokenized['0'])"
   ],
   "metadata": {
    "execution": {
     "iopub.status.busy": "2024-01-29T07:47:14.856329Z",
     "iopub.execute_input": "2024-01-29T07:47:14.856829Z",
     "iopub.status.idle": "2024-01-29T07:47:14.862190Z",
     "shell.execute_reply.started": "2024-01-29T07:47:14.856800Z",
     "shell.execute_reply": "2024-01-29T07:47:14.861271Z"
    },
    "trusted": true,
    "ExecuteTime": {
     "end_time": "2024-01-31T15:07:06.716026Z",
     "start_time": "2024-01-31T15:07:06.713245Z"
    }
   },
   "execution_count": 14,
   "outputs": [
    {
     "name": "stdout",
     "output_type": "stream",
     "text": [
      "['کنفدراسیون', 'فوتبال', 'آسیا', 'AFC', 'نامه\\u200cای', 'رسمی', 'فدراسیون', 'فوتبال', 'باشگاه', 'گیتی', 'پسند', 'زمان', 'قرعه', 'کشی', 'جام', 'باشگاه\\u200cهای', 'فوتسال', 'آسیا', 'رسما', 'اعلام', 'اساس', '۲۵', 'فروردین', 'ماه', '۱۴۰۱', 'مراسم', 'قرعه', 'کشی', 'جام', 'باشگاه\\u200cهای', 'فوتسال', 'آسیا', 'مالزی', 'برگزار', 'می\\u200cشود', 'باشگاه', 'گیتی', 'پسند', 'بعنوان', 'قهرمان', 'فوتسال', '۱۴۰۰', 'مسابقات', 'راه', 'پیدا', 'کرده', 'پیش', 'گیتی', 'پسند', 'تجربه', '۳', 'دوره', 'حضور', 'جام', 'باشگاه\\u200cهای', 'فوتسال', 'آسیا', 'داشته', 'هر', 'سه', 'دوره', 'فینال', 'مسابقات', 'راه', 'پیدا', 'کرده', 'عنوان', 'قهرمانی', 'مقام', 'دومی', 'بدست', 'آورده']\n"
     ]
    }
   ]
  },
  {
   "cell_type": "markdown",
   "source": [
    "# Stemming"
   ],
   "metadata": {}
  },
  {
   "cell_type": "code",
   "source": [
    "from parsivar import FindStems\n",
    "\n",
    "stemmer = FindStems()\n",
    "\n",
    "def stem_tokens(tokens):\n",
    "    return [stemmer.convert_to_stem(word) for word in tokens]\n",
    "\n",
    "stemmed_tokenized = {}\n",
    "\n",
    "with ThreadPoolExecutor(max_workers=4) as executor:\n",
    "    futures = {executor.submit(stem_tokens, removed_tokenized[key]): key for key in removed_tokenized}\n",
    "\n",
    "    for future in tqdm(as_completed(futures), total=len(tokenized), desc=\"Stemming Tokens\"):\n",
    "        key = futures[future]\n",
    "        stemmed_tokenized[key] = future.result()"
   ],
   "metadata": {
    "execution": {
     "iopub.status.busy": "2024-01-29T07:47:15.989624Z",
     "iopub.execute_input": "2024-01-29T07:47:15.989990Z",
     "iopub.status.idle": "2024-01-29T07:47:28.482724Z",
     "shell.execute_reply.started": "2024-01-29T07:47:15.989963Z",
     "shell.execute_reply": "2024-01-29T07:47:28.481631Z"
    },
    "trusted": true,
    "ExecuteTime": {
     "end_time": "2024-01-31T15:07:23.781159Z",
     "start_time": "2024-01-31T15:07:06.717227Z"
    }
   },
   "execution_count": 15,
   "outputs": [
    {
     "name": "stderr",
     "output_type": "stream",
     "text": [
      "Stemming Tokens: 100%|██████████| 12202/12202 [00:10<00:00, 1153.24it/s]\n"
     ]
    }
   ]
  },
  {
   "cell_type": "code",
   "source": [
    "print(stemmed_tokenized['0'])"
   ],
   "metadata": {
    "execution": {
     "iopub.status.busy": "2024-01-29T07:47:28.483685Z",
     "iopub.execute_input": "2024-01-29T07:47:28.484013Z",
     "iopub.status.idle": "2024-01-29T07:47:28.490380Z",
     "shell.execute_reply.started": "2024-01-29T07:47:28.483986Z",
     "shell.execute_reply": "2024-01-29T07:47:28.489197Z"
    },
    "trusted": true,
    "ExecuteTime": {
     "end_time": "2024-01-31T15:07:23.782072Z",
     "start_time": "2024-01-31T15:07:23.769936Z"
    }
   },
   "execution_count": 16,
   "outputs": [
    {
     "name": "stdout",
     "output_type": "stream",
     "text": [
      "['کنفدراسیون', 'فوتبال', 'آسیا', 'AFC', 'نامه', 'رسمی', 'فدراسیون', 'فوتبال', 'باشگاه', 'گیتی', 'پسند', 'زمان', 'قرعه', 'کشید&کش', 'جام', 'باشگاه', 'فوتسال', 'آسیا', 'رسما', 'اعلام', 'اساس', '۲۵', 'فروردین', 'ماه', '۱۴۰۱', 'مراسم', 'قرعه', 'کشید&کش', 'جام', 'باشگاه', 'فوتسال', 'آسیا', 'مالزی', 'برگزار', 'شد&شو', 'باشگاه', 'گیتی', 'پسند', 'بعنوان', 'قهرمان', 'فوتسال', '۱۴۰۰', 'مسابقات', 'راه', 'پیدا', 'کرده', 'پیش', 'گیتی', 'پسند', 'تجربه', '۳', 'دوره', 'حضور', 'جام', 'باشگاه', 'فوتسال', 'آسیا', 'داشته', 'هر', 'سه', 'دوره', 'فینال', 'مسابقات', 'راه', 'پیدا', 'کرده', 'عنوان', 'قهرمانی', 'مقام', 'دومی', 'بدست', 'آورده']\n"
     ]
    }
   ]
  },
  {
   "cell_type": "markdown",
   "source": [
    "# Inverted Positional Index"
   ],
   "metadata": {}
  },
  {
   "cell_type": "code",
   "source": [
    "inverted_index = {}\n",
    "\n",
    "# Iterate over each document\n",
    "for doc_id in tqdm(stemmed_tokenized, desc=\"Processing Documents\"):\n",
    "    # Iterate over each word in the document\n",
    "    for position, word in enumerate(stemmed_tokenized[doc_id]):\n",
    "        if word not in inverted_index:\n",
    "            # Create a new entry for this word if not already present\n",
    "            doc_dict = {doc_id: (1, [position])}\n",
    "            inverted_index[word] = (1, doc_dict)\n",
    "        else:\n",
    "            # Update the existing entry for the word\n",
    "            total_freq, doc_dict = inverted_index[word]\n",
    "            total_freq += 1\n",
    "\n",
    "            if doc_id in doc_dict:\n",
    "                # Word is already present in this document\n",
    "                doc_freq, positions = doc_dict[doc_id]\n",
    "                doc_freq += 1\n",
    "                positions.append(position)\n",
    "                doc_dict[doc_id] = (doc_freq, positions)\n",
    "            else:\n",
    "                # First occurrence of this word in this document\n",
    "                doc_dict[doc_id] = (1, [position])\n",
    "\n",
    "            # Update the inverted index\n",
    "            inverted_index[word] = (total_freq, doc_dict)\n",
    "\n",
    "print(f\"Total unique words in the index: {len(inverted_index)}\")"
   ],
   "metadata": {
    "execution": {
     "iopub.status.busy": "2024-01-29T07:48:15.952376Z",
     "iopub.execute_input": "2024-01-29T07:48:15.952671Z",
     "iopub.status.idle": "2024-01-29T07:48:23.080463Z",
     "shell.execute_reply.started": "2024-01-29T07:48:15.952644Z",
     "shell.execute_reply": "2024-01-29T07:48:23.079047Z"
    },
    "trusted": true,
    "ExecuteTime": {
     "end_time": "2024-01-31T15:07:39.283127Z",
     "start_time": "2024-01-31T15:07:23.775582Z"
    }
   },
   "execution_count": 17,
   "outputs": [
    {
     "name": "stderr",
     "output_type": "stream",
     "text": [
      "Processing Documents: 100%|██████████| 12202/12202 [00:15<00:00, 787.08it/s] "
     ]
    },
    {
     "name": "stdout",
     "output_type": "stream",
     "text": [
      "Total unique words in the index: 50272\n"
     ]
    },
    {
     "name": "stderr",
     "output_type": "stream",
     "text": [
      "\n"
     ]
    }
   ]
  },
  {
   "cell_type": "code",
   "execution_count": 18,
   "outputs": [
    {
     "data": {
      "text/plain": "(45,\n {'10024': (2, [97, 119]),\n  '9845': (1, [1310]),\n  '8463': (2, [1097, 1137]),\n  '10568': (2, [660, 746]),\n  '7416': (1, [22]),\n  '10681': (1, [18]),\n  '7395': (1, [14]),\n  '7579': (1, [983]),\n  '11603': (6, [14, 21, 49, 95, 167, 236]),\n  '11437': (1, [3528]),\n  '10361': (1, [72]),\n  '7535': (1, [6]),\n  '11176': (1, [118]),\n  '7634': (1, [2009]),\n  '11694': (1, [263]),\n  '10567': (3, [157, 189, 208]),\n  '8125': (4, [21, 33, 60, 126]),\n  '7346': (2, [7, 96]),\n  '8645': (1, [16]),\n  '12134': (1, [402]),\n  '9808': (1, [68]),\n  '11645': (1, [16]),\n  '11405': (3, [55, 1400, 1500]),\n  '9286': (5, [893, 1081, 1121, 1349, 1365]),\n  '9261': (1, [38])})"
     },
     "execution_count": 18,
     "metadata": {},
     "output_type": "execute_result"
    }
   ],
   "source": [
    "inverted_index['امیرکبیر']"
   ],
   "metadata": {
    "collapsed": false,
    "ExecuteTime": {
     "end_time": "2024-01-31T15:07:39.287902Z",
     "start_time": "2024-01-31T15:07:39.281444Z"
    }
   }
  },
  {
   "cell_type": "markdown",
   "source": [
    "# Champions list"
   ],
   "metadata": {}
  },
  {
   "cell_type": "code",
   "source": [
    "K_CHAMPION = 20\n",
    "champion_lists = {}\n",
    "\n",
    "# Iterate over each word and its inverted index\n",
    "for word, (_, doc_dict) in tqdm(inverted_index.items(), desc=\"Building Champion Lists\"):\n",
    "    champions = {}\n",
    "    # Iterate over each document\n",
    "    for doc_id, (doc_freq, positions) in doc_dict.items():\n",
    "        # Build the champion list\n",
    "        if len(champions) < K_CHAMPION:\n",
    "            champions[doc_id] = (doc_freq, positions)\n",
    "        else:\n",
    "            # Identify the document with the minimum frequency in the current champions; replace if doc_freq is higher\n",
    "            min_freq_doc_id = min(champions, key=lambda d: champions[d][0])\n",
    "            if champions[min_freq_doc_id][0] < doc_freq:\n",
    "                del champions[min_freq_doc_id]\n",
    "                champions[doc_id] = (doc_freq, positions)\n",
    "\n",
    "    # Calculate the total frequency within champion documents\n",
    "    total_freq_in_champions = sum(doc_freq for doc_freq, _ in champions.values())\n",
    "\n",
    "    # Store the champion list for the word along with its total frequency within these documents\n",
    "    champion_lists[word] = (total_freq_in_champions, champions)"
   ],
   "metadata": {
    "execution": {
     "iopub.status.busy": "2024-01-29T07:48:23.090850Z",
     "iopub.execute_input": "2024-01-29T07:48:23.091271Z",
     "iopub.status.idle": "2024-01-29T07:48:25.526882Z",
     "shell.execute_reply.started": "2024-01-29T07:48:23.091236Z",
     "shell.execute_reply": "2024-01-29T07:48:25.525889Z"
    },
    "trusted": true,
    "ExecuteTime": {
     "end_time": "2024-01-31T15:07:42.174140Z",
     "start_time": "2024-01-31T15:07:39.286408Z"
    }
   },
   "execution_count": 19,
   "outputs": [
    {
     "name": "stderr",
     "output_type": "stream",
     "text": [
      "Building Champion Lists: 100%|██████████| 50272/50272 [00:02<00:00, 17666.46it/s] \n"
     ]
    }
   ]
  },
  {
   "cell_type": "code",
   "source": [
    "print(champion_lists['امیرکبیر'])"
   ],
   "metadata": {
    "execution": {
     "iopub.status.busy": "2024-01-29T07:48:25.528232Z",
     "iopub.execute_input": "2024-01-29T07:48:25.528509Z",
     "iopub.status.idle": "2024-01-29T07:48:25.533674Z",
     "shell.execute_reply.started": "2024-01-29T07:48:25.528486Z",
     "shell.execute_reply": "2024-01-29T07:48:25.532780Z"
    },
    "trusted": true,
    "ExecuteTime": {
     "end_time": "2024-01-31T15:07:42.175647Z",
     "start_time": "2024-01-31T15:07:42.136168Z"
    }
   },
   "execution_count": 20,
   "outputs": [
    {
     "name": "stdout",
     "output_type": "stream",
     "text": [
      "(40, {'10024': (2, [97, 119]), '8463': (2, [1097, 1137]), '10568': (2, [660, 746]), '10681': (1, [18]), '7395': (1, [14]), '7579': (1, [983]), '11603': (6, [14, 21, 49, 95, 167, 236]), '11437': (1, [3528]), '10361': (1, [72]), '7535': (1, [6]), '11176': (1, [118]), '7634': (1, [2009]), '11694': (1, [263]), '10567': (3, [157, 189, 208]), '8125': (4, [21, 33, 60, 126]), '7346': (2, [7, 96]), '8645': (1, [16]), '12134': (1, [402]), '11405': (3, [55, 1400, 1500]), '9286': (5, [893, 1081, 1121, 1349, 1365])})\n"
     ]
    }
   ]
  },
  {
   "cell_type": "markdown",
   "source": [
    "# Vectorized documents"
   ],
   "metadata": {}
  },
  {
   "cell_type": "code",
   "source": [
    "import math\n",
    "from collections import defaultdict\n",
    "\n",
    "def create_vectorized_docs(tokenized_docs):\n",
    "    doc_freq = defaultdict(int)\n",
    "    vectorized_docs = {}\n",
    "    weights_docs = {}\n",
    "\n",
    "    # Calculate document frequency for each term across all documents\n",
    "    for tokens in tqdm(tokenized_docs.values(), desc=\"Calculating Document Frequency\"):\n",
    "        unique_terms = set(tokens)\n",
    "        for term in unique_terms:\n",
    "            doc_freq[term] += 1\n",
    "\n",
    "    N = len(tokenized_docs)\n",
    "\n",
    "    # TF-IDF\n",
    "    for doc_id, tokens in tqdm(tokenized_docs.items(), desc=\"Calculating TF-IDF\"):\n",
    "        term_tf_idf = {}\n",
    "        term_freq = defaultdict(int)\n",
    "\n",
    "        # Calculate term frequency for each word in the document\n",
    "        for word in tokens:\n",
    "            term_freq[word] += 1\n",
    "        \n",
    "        # Calculate TF-IDF\n",
    "        for word, freq in term_freq.items():\n",
    "            tf = 1 + math.log(freq, 10)  # Term frequency part of TF-IDF\n",
    "            idf = math.log(N / doc_freq[word], 10)  # Inverse document frequency part\n",
    "            tf_idf = tf * idf\n",
    "            term_tf_idf[word] = tf_idf\n",
    "\n",
    "#         # Calculate the average term frequency for the document\n",
    "#         avg_tf = sum(term_freq.values()) / len(term_freq)\n",
    "\n",
    "#         # Calculate TF-IDF for each term using the new formula\n",
    "#         for word, freq in term_freq.items():\n",
    "#             tf = (1 + math.log(freq, 10)) / (1 + math.log(avg_tf, 10))\n",
    "#             idf = max(0, math.log((N - doc_freq[word]) / doc_freq[word], 10))\n",
    "#             tf_idf = tf * idf\n",
    "#             term_tf_idf[word] = tf_idf\n",
    "            \n",
    "        # Store the raw TF-IDF weights\n",
    "        weights_docs[doc_id] = term_tf_idf.copy()\n",
    "        \n",
    "        squared_length = sum(tf_idf_val ** 2 for tf_idf_val in term_tf_idf.values())\n",
    "        \n",
    "        # Normalize the TF-IDF values\n",
    "        vectorized_docs[doc_id] = {word: tf_idf / math.sqrt(squared_length) for word, tf_idf in term_tf_idf.items()}\n",
    "        # vectorized_docs[doc_id] = {word: tf_idf for word, tf_idf in term_tf_idf.items()}\n",
    "\n",
    "\n",
    "    return vectorized_docs, weights_docs, doc_freq, N\n",
    "\n",
    "vectorized_docs, weights_docs, doc_freq, N = create_vectorized_docs(stemmed_tokenized)\n",
    "vectorized_champ, weights_champ, champ_freq, N_champ = create_vectorized_docs(stemmed_tokenized)"
   ],
   "metadata": {
    "execution": {
     "iopub.status.busy": "2024-01-29T07:48:25.535200Z",
     "iopub.execute_input": "2024-01-29T07:48:25.535480Z",
     "iopub.status.idle": "2024-01-29T07:48:28.544218Z",
     "shell.execute_reply.started": "2024-01-29T07:48:25.535457Z",
     "shell.execute_reply": "2024-01-29T07:48:28.542271Z"
    },
    "trusted": true,
    "ExecuteTime": {
     "end_time": "2024-01-31T15:07:45.366958Z",
     "start_time": "2024-01-31T15:07:42.165789Z"
    }
   },
   "execution_count": 21,
   "outputs": [
    {
     "name": "stderr",
     "output_type": "stream",
     "text": [
      "Calculating Document Frequency: 100%|██████████| 12202/12202 [00:00<00:00, 37609.78it/s]\n",
      "Calculating TF-IDF: 100%|██████████| 12202/12202 [00:01<00:00, 9638.29it/s]\n",
      "Calculating Document Frequency: 100%|██████████| 12202/12202 [00:00<00:00, 36077.02it/s]\n",
      "Calculating TF-IDF: 100%|██████████| 12202/12202 [00:01<00:00, 9523.84it/s]\n"
     ]
    }
   ]
  },
  {
   "cell_type": "code",
   "source": [
    "print(\"Normalized TF-IDF Vector:\\n\", vectorized_docs.get('0', \"Document ID '0' not found\"), '\\n')\n",
    "print(\"TF-IDF Weights:\\n\", weights_docs.get('0', \"Document ID '0' not found\"))\n",
    "print(doc_freq['فوتبال'])\n",
    "print(N)"
   ],
   "metadata": {
    "execution": {
     "iopub.status.busy": "2024-01-29T07:48:28.547531Z",
     "iopub.execute_input": "2024-01-29T07:48:28.550400Z",
     "iopub.status.idle": "2024-01-29T07:48:28.558497Z",
     "shell.execute_reply.started": "2024-01-29T07:48:28.550343Z",
     "shell.execute_reply": "2024-01-29T07:48:28.557166Z"
    },
    "trusted": true,
    "ExecuteTime": {
     "end_time": "2024-01-31T15:07:45.368092Z",
     "start_time": "2024-01-31T15:07:45.360933Z"
    }
   },
   "execution_count": 22,
   "outputs": [
    {
     "name": "stdout",
     "output_type": "stream",
     "text": [
      "Normalized TF-IDF Vector:\n",
      " {'کنفدراسیون': 0.16850184189944337, 'فوتبال': 0.0703236191265043, 'آسیا': 0.1619234797353218, 'AFC': 0.17117260522029595, 'نامه': 0.10162172546380702, 'رسمی': 0.11444592394013639, 'فدراسیون': 0.08644086684330668, 'باشگاه': 0.11285094997158054, 'گیتی': 0.3398172566260429, 'پسند': 0.31460042764243656, 'زمان': 0.07742081140273063, 'قرعه': 0.25974422601846275, 'کشید&کش': 0.14583186573880313, 'جام': 0.1218245333140782, 'فوتسال': 0.2735522745525411, 'رسما': 0.1825853638583551, 'اعلام': 0.06202257640888991, 'اساس': 0.08746681643165777, '۲۵': 0.12578011653478952, 'فروردین': 0.17203030366445962, 'ماه': 0.07254421163300315, '۱۴۰۱': 0.11531716598400991, 'مراسم': 0.12257691153491386, 'مالزی': 0.2327832350949502, 'برگزار': 0.06015270256259929, 'شد&شو': 0.029175414722865226, 'بعنوان': 0.18578138768492783, 'قهرمان': 0.09773868385894881, '۱۴۰۰': 0.11054095993277666, 'مسابقات': 0.10948184665469728, 'راه': 0.10723681961760784, 'پیدا': 0.10948184665469728, 'کرده': 0.06319339644033121, 'پیش': 0.05196469678553429, 'تجربه': 0.11548258579872252, '۳': 0.07317541500152372, 'دوره': 0.13750404481092207, 'حضور': 0.04348009905122928, 'داشته': 0.05502780463629304, 'هر': 0.05290387952986313, 'سه': 0.0733546895138593, 'فینال': 0.14977949894191162, 'عنوان': 0.04686364562979295, 'قهرمانی': 0.09824556207672462, 'مقام': 0.10608293499095056, 'دومی': 0.20409909369905785, 'بدست': 0.16562022784063138, 'آورده': 0.14965314016115927} \n",
      "\n",
      "TF-IDF Weights:\n",
      " {'کنفدراسیون': 1.7683676856936068, 'فوتبال': 0.7380216987690142, 'آسیا': 1.699330083821194, 'AFC': 1.7963964092938505, 'نامه': 1.0664843389775263, 'رسمی': 1.2010698006248566, 'فدراسیون': 0.9071665563173432, 'باشگاه': 1.1843311086691932, 'گیتی': 3.5662628306292183, 'پسند': 3.3016210616871144, 'زمان': 0.812504240555843, 'قرعه': 2.725924480461501, 'کشید&کش': 1.5304542431696706, 'جام': 1.278505716073314, 'فوتسال': 2.8708351031283135, 'رسما': 1.9161693052614113, 'اعلام': 0.6509051691577139, 'اساس': 0.9179335371333359, '۲۵': 1.320018173543969, 'فروردین': 1.805397653408641, 'ماه': 0.7613260376849612, '۱۴۰۱': 1.2102131800647264, 'مراسم': 1.2864016614122344, 'مالزی': 2.4429783441701813, 'برگزار': 0.6312814994765407, 'شد&شو': 0.306185736791016, 'بعنوان': 1.9497104534999616, 'قهرمان': 1.025733180302757, '۱۴۰۰': 1.1600885740307134, 'مسابقات': 1.1489735519316535, 'راه': 1.1254127811938084, 'پیدا': 1.1489735519316535, 'کرده': 0.6631925144236437, 'پیش': 0.5453512528797398, 'تجربه': 1.2119492029569021, '۳': 0.7679502954818513, 'دوره': 1.4430566856409153, 'حضور': 0.45630837779705663, 'داشته': 0.5774974946063358, 'هر': 0.5552076461233418, 'سه': 0.7698317185625078, 'فینال': 1.5718832679960826, 'عنوان': 0.4918175114962706, 'قهرمانی': 1.0310526892813687, 'مقام': 1.11330316705667, 'دومی': 2.1419483485062, 'بدست': 1.7381261576082077, 'آورده': 1.5705571769446895}\n",
      "3305\n",
      "12202\n"
     ]
    }
   ]
  },
  {
   "cell_type": "code",
   "source": [
    "print(\"Normalized TF-IDF Vector:\\n\", vectorized_champ.get('0', \"Document ID '0' not found\"), '\\n')\n",
    "print(\"TF-IDF Weights:\\n\", weights_champ.get('0', \"Document ID '0' not found\"))\n",
    "print(champ_freq['فوتبال'])\n",
    "print(N_champ)"
   ],
   "metadata": {
    "execution": {
     "iopub.status.busy": "2024-01-29T07:48:28.560481Z",
     "iopub.execute_input": "2024-01-29T07:48:28.560941Z",
     "iopub.status.idle": "2024-01-29T07:48:28.574493Z",
     "shell.execute_reply.started": "2024-01-29T07:48:28.560905Z",
     "shell.execute_reply": "2024-01-29T07:48:28.572907Z"
    },
    "trusted": true,
    "ExecuteTime": {
     "end_time": "2024-01-31T15:07:45.371708Z",
     "start_time": "2024-01-31T15:07:45.364523Z"
    }
   },
   "execution_count": 23,
   "outputs": [
    {
     "name": "stdout",
     "output_type": "stream",
     "text": [
      "Normalized TF-IDF Vector:\n",
      " {'کنفدراسیون': 0.16850184189944337, 'فوتبال': 0.0703236191265043, 'آسیا': 0.1619234797353218, 'AFC': 0.17117260522029595, 'نامه': 0.10162172546380702, 'رسمی': 0.11444592394013639, 'فدراسیون': 0.08644086684330668, 'باشگاه': 0.11285094997158054, 'گیتی': 0.3398172566260429, 'پسند': 0.31460042764243656, 'زمان': 0.07742081140273063, 'قرعه': 0.25974422601846275, 'کشید&کش': 0.14583186573880313, 'جام': 0.1218245333140782, 'فوتسال': 0.2735522745525411, 'رسما': 0.1825853638583551, 'اعلام': 0.06202257640888991, 'اساس': 0.08746681643165777, '۲۵': 0.12578011653478952, 'فروردین': 0.17203030366445962, 'ماه': 0.07254421163300315, '۱۴۰۱': 0.11531716598400991, 'مراسم': 0.12257691153491386, 'مالزی': 0.2327832350949502, 'برگزار': 0.06015270256259929, 'شد&شو': 0.029175414722865226, 'بعنوان': 0.18578138768492783, 'قهرمان': 0.09773868385894881, '۱۴۰۰': 0.11054095993277666, 'مسابقات': 0.10948184665469728, 'راه': 0.10723681961760784, 'پیدا': 0.10948184665469728, 'کرده': 0.06319339644033121, 'پیش': 0.05196469678553429, 'تجربه': 0.11548258579872252, '۳': 0.07317541500152372, 'دوره': 0.13750404481092207, 'حضور': 0.04348009905122928, 'داشته': 0.05502780463629304, 'هر': 0.05290387952986313, 'سه': 0.0733546895138593, 'فینال': 0.14977949894191162, 'عنوان': 0.04686364562979295, 'قهرمانی': 0.09824556207672462, 'مقام': 0.10608293499095056, 'دومی': 0.20409909369905785, 'بدست': 0.16562022784063138, 'آورده': 0.14965314016115927} \n",
      "\n",
      "TF-IDF Weights:\n",
      " {'کنفدراسیون': 1.7683676856936068, 'فوتبال': 0.7380216987690142, 'آسیا': 1.699330083821194, 'AFC': 1.7963964092938505, 'نامه': 1.0664843389775263, 'رسمی': 1.2010698006248566, 'فدراسیون': 0.9071665563173432, 'باشگاه': 1.1843311086691932, 'گیتی': 3.5662628306292183, 'پسند': 3.3016210616871144, 'زمان': 0.812504240555843, 'قرعه': 2.725924480461501, 'کشید&کش': 1.5304542431696706, 'جام': 1.278505716073314, 'فوتسال': 2.8708351031283135, 'رسما': 1.9161693052614113, 'اعلام': 0.6509051691577139, 'اساس': 0.9179335371333359, '۲۵': 1.320018173543969, 'فروردین': 1.805397653408641, 'ماه': 0.7613260376849612, '۱۴۰۱': 1.2102131800647264, 'مراسم': 1.2864016614122344, 'مالزی': 2.4429783441701813, 'برگزار': 0.6312814994765407, 'شد&شو': 0.306185736791016, 'بعنوان': 1.9497104534999616, 'قهرمان': 1.025733180302757, '۱۴۰۰': 1.1600885740307134, 'مسابقات': 1.1489735519316535, 'راه': 1.1254127811938084, 'پیدا': 1.1489735519316535, 'کرده': 0.6631925144236437, 'پیش': 0.5453512528797398, 'تجربه': 1.2119492029569021, '۳': 0.7679502954818513, 'دوره': 1.4430566856409153, 'حضور': 0.45630837779705663, 'داشته': 0.5774974946063358, 'هر': 0.5552076461233418, 'سه': 0.7698317185625078, 'فینال': 1.5718832679960826, 'عنوان': 0.4918175114962706, 'قهرمانی': 1.0310526892813687, 'مقام': 1.11330316705667, 'دومی': 2.1419483485062, 'بدست': 1.7381261576082077, 'آورده': 1.5705571769446895}\n",
      "3305\n",
      "12202\n"
     ]
    }
   ]
  },
  {
   "cell_type": "markdown",
   "source": [
    "# Similarity"
   ],
   "metadata": {}
  },
  {
   "cell_type": "code",
   "source": [
    "def vectorize_query(raw_query, doc_freq, N):\n",
    "    # Tokenize the query and count term frequencies\n",
    "    term_freq = defaultdict(int)\n",
    "    for term in raw_query.split():\n",
    "        term_freq[term] += 1\n",
    "\n",
    "    term_tf_idf = {}\n",
    "    for word, freq in term_freq.items():\n",
    "        if word in doc_freq:\n",
    "            tf = 1 + math.log(freq, 10)  # Term frequency in the query\n",
    "            idf = math.log(N / doc_freq[word], 10)  # Inverse document frequency\n",
    "            term_tf_idf[word] = tf * idf  # TF-IDF weight for the term in the query\n",
    "#             term_tf_idf[word] = (tf * idf) * freq  # Amplified TF-IDF weight for frequent terms\n",
    "\n",
    "    # Normalize the query vector\n",
    "    query_len = math.sqrt(sum(weight**2 for weight in term_tf_idf.values()))\n",
    "    return {word: weight / query_len for word, weight in term_tf_idf.items()}\n",
    "    # return {word: weight for word, weight in term_tf_idf.items()}\n",
    "\n",
    "\n",
    "raw_query = \"فوتبال جام جهانی\"\n",
    "vectorized_query = vectorize_query(raw_query, doc_freq, N)\n",
    "print(vectorized_query)"
   ],
   "metadata": {
    "execution": {
     "iopub.status.busy": "2024-01-29T07:48:28.576982Z",
     "iopub.execute_input": "2024-01-29T07:48:28.577633Z",
     "iopub.status.idle": "2024-01-29T07:48:28.591589Z",
     "shell.execute_reply.started": "2024-01-29T07:48:28.577591Z",
     "shell.execute_reply": "2024-01-29T07:48:28.590577Z"
    },
    "trusted": true,
    "ExecuteTime": {
     "end_time": "2024-01-31T15:07:45.372503Z",
     "start_time": "2024-01-31T15:07:45.365823Z"
    }
   },
   "execution_count": 24,
   "outputs": [
    {
     "name": "stdout",
     "output_type": "stream",
     "text": [
      "{'فوتبال': 0.40808435260589404, 'جام': 0.6226652771934315, 'جهانی': 0.6676489449822082}\n"
     ]
    }
   ]
  },
  {
   "cell_type": "markdown",
   "source": [
    "## Cosine"
   ],
   "metadata": {}
  },
  {
   "cell_type": "code",
   "source": [
    "def cosine_similarity(query_vector, doc_vector):\n",
    "    dot_product = sum(query_vector.get(word, 0) * doc_vector.get(word, 0) for word in query_vector)\n",
    "    return dot_product  # Since both vectors are normalized, no need to divide by magnitudes."
   ],
   "metadata": {
    "execution": {
     "iopub.status.busy": "2024-01-29T07:48:28.593489Z",
     "iopub.execute_input": "2024-01-29T07:48:28.594334Z",
     "iopub.status.idle": "2024-01-29T07:48:28.609409Z",
     "shell.execute_reply.started": "2024-01-29T07:48:28.594269Z",
     "shell.execute_reply": "2024-01-29T07:48:28.608228Z"
    },
    "trusted": true,
    "ExecuteTime": {
     "end_time": "2024-01-31T15:07:45.372701Z",
     "start_time": "2024-01-31T15:07:45.372082Z"
    }
   },
   "execution_count": 25,
   "outputs": []
  },
  {
   "cell_type": "code",
   "source": [
    "query = 'دانشگاه امیرکبیر'\n",
    "doc_id = '0'\n",
    "similarity = cosine_similarity(vectorize_query(query, doc_freq, N), vectorized_docs.get(f'''{doc_id}'''))\n",
    "print(f\"Cosine similarity between the query and document {doc_id}: {similarity}\")"
   ],
   "metadata": {
    "execution": {
     "iopub.status.busy": "2024-01-29T07:49:38.732702Z",
     "iopub.execute_input": "2024-01-29T07:49:38.733110Z",
     "iopub.status.idle": "2024-01-29T07:49:38.741072Z",
     "shell.execute_reply.started": "2024-01-29T07:49:38.733083Z",
     "shell.execute_reply": "2024-01-29T07:49:38.739492Z"
    },
    "trusted": true,
    "ExecuteTime": {
     "end_time": "2024-01-31T15:07:45.544415Z",
     "start_time": "2024-01-31T15:07:45.385070Z"
    }
   },
   "execution_count": 26,
   "outputs": [
    {
     "name": "stdout",
     "output_type": "stream",
     "text": [
      "Cosine similarity between the query and document 0: 0.0\n"
     ]
    }
   ]
  },
  {
   "cell_type": "markdown",
   "source": [
    "## Jaccard"
   ],
   "metadata": {}
  },
  {
   "cell_type": "code",
   "source": [
    "def jaccard_similarity(query_set, doc_set):\n",
    "    intersection = query_set.intersection(doc_set)\n",
    "    union = query_set.union(doc_set)\n",
    "    return len(intersection) / len(union)"
   ],
   "metadata": {
    "execution": {
     "iopub.status.busy": "2024-01-29T07:49:38.760317Z",
     "iopub.execute_input": "2024-01-29T07:49:38.760707Z",
     "iopub.status.idle": "2024-01-29T07:49:38.776075Z",
     "shell.execute_reply.started": "2024-01-29T07:49:38.760673Z",
     "shell.execute_reply": "2024-01-29T07:49:38.774484Z"
    },
    "trusted": true,
    "ExecuteTime": {
     "end_time": "2024-01-31T15:07:45.545289Z",
     "start_time": "2024-01-31T15:07:45.386101Z"
    }
   },
   "execution_count": 27,
   "outputs": []
  },
  {
   "cell_type": "code",
   "source": [
    "query = 'دانشگاه امیرکبیر'\n",
    "doc_id = '0'\n",
    "\n",
    "doc_terms = stemmed_tokenized[doc_id] if doc_id in stemmed_tokenized else []\n",
    "doc_set = set(doc_terms)\n",
    "\n",
    "similarity = jaccard_similarity(set(query.split()), doc_set)\n",
    "print(f\"Jaccard similarity between the query and document {doc_id}: {similarity}\")"
   ],
   "metadata": {
    "execution": {
     "iopub.status.busy": "2024-01-29T07:49:38.777603Z",
     "iopub.execute_input": "2024-01-29T07:49:38.778147Z",
     "iopub.status.idle": "2024-01-29T07:49:38.794224Z",
     "shell.execute_reply.started": "2024-01-29T07:49:38.777931Z",
     "shell.execute_reply": "2024-01-29T07:49:38.792149Z"
    },
    "trusted": true,
    "ExecuteTime": {
     "end_time": "2024-01-31T15:07:45.545887Z",
     "start_time": "2024-01-31T15:07:45.407458Z"
    }
   },
   "execution_count": 28,
   "outputs": [
    {
     "name": "stdout",
     "output_type": "stream",
     "text": [
      "Jaccard similarity between the query and document 0: 0.0\n"
     ]
    }
   ]
  },
  {
   "cell_type": "markdown",
   "source": [
    "# Query retrival"
   ],
   "metadata": {}
  },
  {
   "cell_type": "code",
   "source": [
    "stemmer = FindStems()\n",
    "\n",
    "def stem_tokens(tokens):\n",
    "    return [stemmer.convert_to_stem(word) for word in tokens]\n",
    "\n",
    "def preprocess_query(query_text, doc_freq, N):\n",
    "    # Tokenize, remove stop words, and stem the query\n",
    "    query_tokens = stem_tokens(remove_top_words_and_count(tokenize(normalize(query_text)))[0])\n",
    "    \n",
    "    # Build an inverted positional index for the query\n",
    "    query_index = {}\n",
    "    for position, term in enumerate(query_tokens):\n",
    "        if term not in query_index:\n",
    "            query_index[term] = [position]\n",
    "        else:\n",
    "            query_index[term].append(position)\n",
    "    \n",
    "    # Vectorize the query\n",
    "    vectorized_query = vectorize_query(query_text, doc_freq, N)\n",
    "    \n",
    "    return query_index, vectorized_query\n",
    "\n",
    "query_text = \"فوتبال جام جهانی\"\n",
    "query_index, vectorized_query = preprocess_query(query_text, doc_freq, N)\n",
    "print(\"Inverted Positional Index for Query:\")\n",
    "print(query_index)\n",
    "print(\"\\nVectorized Query:\")\n",
    "print(vectorized_query)"
   ],
   "metadata": {
    "execution": {
     "iopub.status.busy": "2024-01-29T07:52:23.145262Z",
     "iopub.execute_input": "2024-01-29T07:52:23.145799Z",
     "iopub.status.idle": "2024-01-29T07:52:23.173589Z",
     "shell.execute_reply.started": "2024-01-29T07:52:23.145756Z",
     "shell.execute_reply": "2024-01-29T07:52:23.170550Z"
    },
    "trusted": true,
    "ExecuteTime": {
     "end_time": "2024-01-31T15:07:45.604556Z",
     "start_time": "2024-01-31T15:07:45.407761Z"
    }
   },
   "execution_count": 29,
   "outputs": [
    {
     "name": "stdout",
     "output_type": "stream",
     "text": [
      "Inverted Positional Index for Query:\n",
      "{'فوتبال': [0], 'جام': [1], 'جهانی': [2]}\n",
      "\n",
      "Vectorized Query:\n",
      "{'فوتبال': 0.40808435260589404, 'جام': 0.6226652771934315, 'جهانی': 0.6676489449822082}\n"
     ]
    }
   ]
  },
  {
   "cell_type": "code",
   "source": [
    "import heapq\n",
    "\n",
    "def find_top_k_documents(query_text, similarity_function, vectorized_docs, doc_freq, N, k=10):\n",
    "    query_index, vectorized_query = preprocess_query(query_text, doc_freq, N)\n",
    "    \n",
    "    top_k_documents = []\n",
    "    \n",
    "    # Calculate similarity between the query and each document\n",
    "    for doc_id in tqdm(stemmed_tokenized, desc=\"Calculating Similarity\"):\n",
    "        if similarity_function == 'cosine':\n",
    "            similarity_score = cosine_similarity(vectorized_query, vectorized_docs[doc_id])\n",
    "        elif similarity_function == 'jaccard':\n",
    "            doc_terms = stemmed_tokenized[doc_id] if doc_id in stemmed_tokenized else []\n",
    "            doc_set = set(doc_terms)\n",
    "\n",
    "            query_set = set(query_index.keys())\n",
    "            similarity_score = jaccard_similarity(query_set, doc_set)\n",
    "        else:\n",
    "            raise ValueError(\"Invalid similarity function. Use 'cosine' or 'jaccard'.\")\n",
    "        \n",
    "        heapq.heappush(top_k_documents, (similarity_score, doc_id))\n",
    "        \n",
    "        # If the heap size exceeds k, remove the smallest element\n",
    "        if len(top_k_documents) > k:\n",
    "            heapq.heappop(top_k_documents)\n",
    "\n",
    "    top_k_documents = [(score, doc_id) for score, doc_id in top_k_documents]\n",
    "    \n",
    "    return sorted(top_k_documents, key=lambda doc: doc[0], reverse=True)"
   ],
   "metadata": {
    "execution": {
     "iopub.status.busy": "2024-01-29T07:52:23.177282Z",
     "iopub.execute_input": "2024-01-29T07:52:23.177764Z",
     "iopub.status.idle": "2024-01-29T07:52:23.188353Z",
     "shell.execute_reply.started": "2024-01-29T07:52:23.177727Z",
     "shell.execute_reply": "2024-01-29T07:52:23.187305Z"
    },
    "trusted": true,
    "ExecuteTime": {
     "end_time": "2024-01-31T15:07:45.604901Z",
     "start_time": "2024-01-31T15:07:45.408270Z"
    }
   },
   "execution_count": 30,
   "outputs": []
  },
  {
   "cell_type": "code",
   "source": [
    "query_text = \"کیس های هک شدن دستبرد\"\n",
    "similarity_function = 'cosine'\n",
    "k = 10\n",
    "top_k_documents = find_top_k_documents(query_text, similarity_function, vectorized_docs, doc_freq, N, k)\n",
    "print(f\"Top {k} documents most relevant to the query:\")\n",
    "for score, doc_id in top_k_documents:\n",
    "    print(f\"Document ID: {doc_id}, Similarity Score: {score}\")"
   ],
   "metadata": {
    "execution": {
     "iopub.status.busy": "2024-01-29T07:52:23.189662Z",
     "iopub.execute_input": "2024-01-29T07:52:23.190029Z",
     "iopub.status.idle": "2024-01-29T07:52:23.237100Z",
     "shell.execute_reply.started": "2024-01-29T07:52:23.189998Z",
     "shell.execute_reply": "2024-01-29T07:52:23.235110Z"
    },
    "trusted": true,
    "ExecuteTime": {
     "end_time": "2024-01-31T15:07:45.657179Z",
     "start_time": "2024-01-31T15:07:45.408472Z"
    }
   },
   "execution_count": 31,
   "outputs": [
    {
     "name": "stderr",
     "output_type": "stream",
     "text": [
      "Calculating Similarity: 100%|██████████| 12202/12202 [00:00<00:00, 364042.38it/s]"
     ]
    },
    {
     "name": "stdout",
     "output_type": "stream",
     "text": [
      "Top 10 documents most relevant to the query:\n",
      "Document ID: 11779, Similarity Score: 0.16123364690526393\n",
      "Document ID: 4017, Similarity Score: 0.14786926110611576\n",
      "Document ID: 5156, Similarity Score: 0.11878121035578779\n",
      "Document ID: 460, Similarity Score: 0.10862863993778082\n",
      "Document ID: 7498, Similarity Score: 0.1077733598287549\n",
      "Document ID: 3453, Similarity Score: 0.10039410430573438\n",
      "Document ID: 10502, Similarity Score: 0.09637041057472998\n",
      "Document ID: 10744, Similarity Score: 0.0935898245796879\n",
      "Document ID: 11165, Similarity Score: 0.09202864873110608\n",
      "Document ID: 11015, Similarity Score: 0.08944875654111803\n"
     ]
    },
    {
     "name": "stderr",
     "output_type": "stream",
     "text": [
      "\n"
     ]
    }
   ]
  },
  {
   "cell_type": "code",
   "source": [
    "query_text = \"فوتبال جام جهانی\"\n",
    "similarity_function = 'cosine'\n",
    "k = 10\n",
    "top_k_documents = find_top_k_documents(query_text, similarity_function, vectorized_champ, champ_freq, N_champ, k)\n",
    "print(f\"Top {k} documents most relevant to the query:\")\n",
    "for score, doc_id in top_k_documents:\n",
    "    print(f\"Document ID: {doc_id}, Similarity Score: {score}\")"
   ],
   "metadata": {
    "execution": {
     "iopub.status.busy": "2024-01-29T07:52:23.240124Z",
     "iopub.execute_input": "2024-01-29T07:52:23.240651Z",
     "iopub.status.idle": "2024-01-29T07:52:23.273848Z",
     "shell.execute_reply.started": "2024-01-29T07:52:23.240612Z",
     "shell.execute_reply": "2024-01-29T07:52:23.272941Z"
    },
    "trusted": true,
    "ExecuteTime": {
     "end_time": "2024-01-31T15:07:45.659452Z",
     "start_time": "2024-01-31T15:07:45.434632Z"
    }
   },
   "execution_count": 32,
   "outputs": [
    {
     "name": "stderr",
     "output_type": "stream",
     "text": [
      "Calculating Similarity: 100%|██████████| 12202/12202 [00:00<00:00, 420119.01it/s]"
     ]
    },
    {
     "name": "stdout",
     "output_type": "stream",
     "text": [
      "Top 10 documents most relevant to the query:\n",
      "Document ID: 3512, Similarity Score: 0.2832998395132039\n",
      "Document ID: 3505, Similarity Score: 0.24858583957413377\n",
      "Document ID: 3498, Similarity Score: 0.24142371633217855\n",
      "Document ID: 3511, Similarity Score: 0.24054498731718865\n",
      "Document ID: 3119, Similarity Score: 0.2379384482711294\n",
      "Document ID: 3492, Similarity Score: 0.23716938096752493\n",
      "Document ID: 3529, Similarity Score: 0.2324444209702053\n",
      "Document ID: 3330, Similarity Score: 0.23086505090324239\n",
      "Document ID: 3502, Similarity Score: 0.22346650769190957\n",
      "Document ID: 3496, Similarity Score: 0.2211427345087517\n"
     ]
    },
    {
     "name": "stderr",
     "output_type": "stream",
     "text": [
      "\n"
     ]
    }
   ]
  },
  {
   "cell_type": "markdown",
   "source": [
    "## Show data"
   ],
   "metadata": {}
  },
  {
   "cell_type": "code",
   "source": [
    "import time\n",
    "import heapq\n",
    "\n",
    "def show_data(doc_id, query, similarity_score):\n",
    "    document = dataset[doc_id]\n",
    "    print(f\"Document ID: {doc_id}\")\n",
    "    if similarity_score:\n",
    "        print(f\"Similarity Score: {similarity_score:.4f}\")\n",
    "    print('\\033[1m' + document['title'] + '\\033[0m')\n",
    "    print('\\033[1m' + document['url']+ '\\033[0m')\n",
    "\n",
    "    content_lines = document['content'].split('\\n')\n",
    "\n",
    "    # Filter lines that contain any of the query words\n",
    "    filtered_lines = [line for line in content_lines if any(word in line for word in query)]\n",
    "\n",
    "    # Print the filtered lines\n",
    "    print(\"\\n\".join(filtered_lines[:3]))  # Print the first 3 matching lines\n",
    "    print()\n",
    "\n",
    "def query(query_text, similarity_function, k=10, use_champion_list=False):\n",
    "    # Start the timer\n",
    "    start_time = time.time()\n",
    "\n",
    "    top_k_documents = []\n",
    "    existing_docs = set()\n",
    "\n",
    "    if use_champion_list:\n",
    "        # Find top k documents from the champion list\n",
    "        top_k_documents = find_top_k_documents(query_text, similarity_function, vectorized_champ, champ_freq, N_champ, k)\n",
    "        existing_docs = set([doc_id for _, doc_id in top_k_documents])\n",
    "\n",
    "    else:\n",
    "        top_k_documents = find_top_k_documents(query_text, similarity_function, vectorized_docs, doc_freq, N, k)\n",
    "\n",
    "    # Check if more documents are needed from the normal list\n",
    "    if use_champion_list and len(top_k_documents) < k:\n",
    "        print('needed')\n",
    "        additional_k = 2 * (k - len(top_k_documents))\n",
    "        additional_documents = find_top_k_documents(query_text, similarity_function, vectorized_docs, doc_freq, N, additional_k)\n",
    "        \n",
    "        # Add unique documents from additional_documents to top_k_documents\n",
    "        for score, doc_id in additional_documents:\n",
    "            if doc_id not in existing_docs and len(top_k_documents) < k:\n",
    "                top_k_documents.append((score, doc_id))\n",
    "                existing_docs.add(doc_id)\n",
    "\n",
    "    # End the timer\n",
    "    end_time = time.time()\n",
    "    execution_time = end_time - start_time\n",
    "\n",
    "    # Display the results\n",
    "    print(f\"Execution Time: {execution_time:.4f} seconds\")\n",
    "    print(f\"Top {k} documents most relevant to the query:\\n\")\n",
    "    for rank, (similarity_score, doc_id) in enumerate(top_k_documents, start=1):\n",
    "        print(f'''Rank {rank}''')\n",
    "        show_data(doc_id, query_index.keys(), similarity_score)\n",
    "        \n",
    "    return top_k_documents"
   ],
   "metadata": {
    "execution": {
     "iopub.status.busy": "2024-01-29T07:52:23.277086Z",
     "iopub.execute_input": "2024-01-29T07:52:23.277433Z",
     "iopub.status.idle": "2024-01-29T07:52:23.292909Z",
     "shell.execute_reply.started": "2024-01-29T07:52:23.277402Z",
     "shell.execute_reply": "2024-01-29T07:52:23.290168Z"
    },
    "trusted": true,
    "ExecuteTime": {
     "end_time": "2024-01-31T15:23:42.486552Z",
     "start_time": "2024-01-31T15:23:42.476087Z"
    }
   },
   "execution_count": 57,
   "outputs": []
  },
  {
   "cell_type": "code",
   "execution_count": 59,
   "outputs": [
    {
     "name": "stderr",
     "output_type": "stream",
     "text": [
      "Calculating Similarity: 100%|██████████| 12202/12202 [00:00<00:00, 305454.48it/s]"
     ]
    },
    {
     "name": "stdout",
     "output_type": "stream",
     "text": [
      "Execution Time: 0.0433 seconds\n",
      "Top 10 documents most relevant to the query:\n",
      "\n",
      "Rank 1\n",
      "Document ID: 6383\n",
      "Similarity Score: 0.1348\n",
      "\u001B[1mبرگزاری نشست هم اندیشی هیات‌رئیسه فدراسیون و روسای هیات‌های فوتبال در اصفهان\u001B[0m\n",
      "\u001B[1mhttps://www.farsnews.ir/news/14001001000273/برگزاری-نشست-هم-اندیشی-هیات‌رئیسه-فدراسیون-و-روسای-هیات‌های-فوتبال-در\u001B[0m\n",
      "به گزارش خبرنگار ورزشی خبرگزاری فارس، نشست اعضای هیات رئیسه فدراسیون فوتبال و روسای هیات‌های فوتبال کل کشور فردا برگزار می شود. این نشست فردا در اصفهان برگزار خواهد شد و اعضا در مورد مسائل مختلف در فوتبال کشور به بحث و تبادل نظر خواهند پرداخت. قرار است اعضای هیات رئیسه فدراسیون و همچنین شهاب عزیزی خادم امروز راهی اصفهان شوند.  انتهای پیام/\n",
      "\n",
      "Rank 2\n",
      "Document ID: 719\n",
      "Similarity Score: 0.1345\n",
      "\u001B[1mبرگزاری مجمع انتخاباتی هیات فوتبال خراسان با حضور اعضای هیات رئیسه فدراسیون\u001B[0m\n",
      "\u001B[1mhttps://www.farsnews.ir/news/14001215000166/برگزاری-مجمع-انتخاباتی-هیات-فوتبال-خراسان-با-حضور-اعضای-هیات-رئیسه\u001B[0m\n",
      "به گزارش خبرنگار ورزشی خبرگزاری فارس، مجمع هیات فوتبال استان خراسان قرار است روز پنجشنبه 19 اسفند در مشهد برگزار شود. در این مجمع اعضای هیات رئیسه فدراسیون فوتبال هم حضور خواهند داشت و زیر نظر مدیران ارشد این فدراسیون برگزار خواهد شد. قرار است جلسه هیات رئیسه فدراسیون فوتبال هم بعد از برگزاری این مجمع در مشهد برگزار شود. این دومین جلسه رسمی هیات رئیسه فدراسیون فوتبال بعد از انتخاب سرپرست جدید خواهد بود. انتهای پیام/  \n",
      "\n",
      "Rank 3\n",
      "Document ID: 1523\n",
      "Similarity Score: 0.1283\n",
      "\u001B[1mاستیلی سرپرست تیم ملی فوتبال شد\u001B[0m\n",
      "\u001B[1mhttps://www.farsnews.ir/news/14001204000668/استیلی-سرپرست-تیم-ملی-فوتبال-شد\u001B[0m\n",
      "به گزارش خبرنگار ورزشی خبرگزاری فارس، حمید استیلی بازیکن اسبق تیم ملی فوتبال ایران به عنوان سرپرست تیم ملی فوتبال انتخاب شد. قرار است وی به زودی امور سرپرستی تیم ملی را بر عهده دارد. پیش از این مجتبی خورشیدی سرپرستی تیم ملی فوتبال را بر عهده داشت. انتهای پیام/\n",
      "\n",
      "Rank 4\n",
      "Document ID: 3603\n",
      "Similarity Score: 0.1218\n",
      "\u001B[1mحضور سجادی در تمرین تیم ملی بعد از خروج خبرنگاران\u001B[0m\n",
      "\u001B[1mhttps://www.farsnews.ir/news/14001106000698/حضور-سجادی-در-تمرین-تیم-ملی-بعد-از-خروج-خبرنگاران\u001B[0m\n",
      "به گزارش خبرنگار ورزشی خبرگزاری فارس، در شرایطی که تمرین تیم ملی امروز با حضور 15 دقیقه ای خبرنگاران رسانه های گروهی برگزار شد. حمید سجادی وزیر ورزش و جوانان در مرکز ملی فوتبال حضور پیدا کرد. سجادی به همراه رئیس فدراسیون فوتبال در شرایطی در تمرین تیم ملی حضور پیدا کرد که برای دقایقی با اسکوچیچ و بازیکنان به صحت پرداخت. تیم ملی فوتبال کشورمان فردا به مصاف تیم ملی عراق می رود. انتهای پیام/\n",
      "\n",
      "Rank 5\n",
      "Document ID: 3879\n",
      "Similarity Score: 0.1171\n",
      "\u001B[1mتمرینات فولاد فقط 2 روز تعطیل شد\u001B[0m\n",
      "\u001B[1mhttps://www.farsnews.ir/news/14001103000514/تمرینات-فولاد-فقط-2-روز-تعطیل-شد\u001B[0m\n",
      "به گزارش خبرنگار ورزشی خبرگزاری فارس، تمرینات تیم فوتبال فولاد خوزستان بعد از باخت شب گذشته این تیم مقابل پرسپولیس فقط 2 روز تعطیل اعلام شد. شاگردان جواد نکونام قرار است از روز سه شنبه تمرینات خود را برای نیم فصل دوم آغاز کنند. تیم فوتبال فولاد با 21 امتیاز در رده هشتم جدول قرار دارد. انتهای پیام/\n",
      "\n",
      "Rank 6\n",
      "Document ID: 4405\n",
      "Similarity Score: 0.1170\n",
      "\u001B[1mاعلام ساعت دیدارهای تیم ملی مقابل عراق و امارات\u001B[0m\n",
      "\u001B[1mhttps://www.farsnews.ir/news/14001027000611/اعلام-ساعت-دیدارهای-تیم-ملی-مقابل-عراق-و-امارات\u001B[0m\n",
      "به گزارش خبرگزاری فارس و به نقل از سایت فدراسیون فوتبال، کنفدراسیون فوتبال آسیا با ارسال نامه‌ای ساعت دو بازی ایران مقابل عراق و امارات را اعلام کرد. بر اساس نامه ارسالی AFC دو بازی تیم ملی فوتبال ایران مقابل عراق (7 بهمن) و امارات (12 بهمن) راس ساعت 18:00 برگزار خواهد شد. انتهای پیام/\n",
      "\n",
      "Rank 7\n",
      "Document ID: 2009\n",
      "Similarity Score: 0.1140\n",
      "\u001B[1mبهاروند و مهرعلی مجوز حضور در نشست هیات رئیسه را پیدا نکردند/خروج 2 عضو غیرقانونی از مرکز ملی فوتبال\u001B[0m\n",
      "\u001B[1mhttps://www.farsnews.ir/news/14001128000158/بهاروند-و-مهرعلی-مجوز-حضور-در-نشست-هیات-رئیسه-را-پیدا-نکردند-خروج-2\u001B[0m\n",
      "به گزارش خبرنگار ورزشی خبرگزاری فارس، نشست اعضای هیات رئیسه فدراسیون فوتبال صبح امروز در شرایطی در مرکز ملی فوتبال برگزار شد که پیش از این کنفدراسیون فوتبال آسیا در نامه‌ای اعلام کرد که حیدر بهاروند و حمیدرضا مهرعلی به دلیل حضور غیرقانونی در فدراسیون نمی‌توانند در این نشست شرکت کنند. با این وجود  هر دو نفر در مرکز ملی فوتبال حاضر شده اما با تذکر حسن کامرانی‌فر مجوز ورود به جلسه هیات رئیسه فدراسیون فوتبال را پیدا نکردند. بعد از این اتفاق هر دو نفر مرکز تیم‌های ملی را ترک کردند. نشست اعضای هیات رئیسه فدراسیون فوتبال در حال برگزاری است. انتهای پیام/\n",
      "\n",
      "Rank 8\n",
      "Document ID: 4840\n",
      "Similarity Score: 0.1139\n",
      "\u001B[1mپاسخ عضو هیأت رئیسه به اختلاف سراجی با فدراسیون فوتبال\u001B[0m\n",
      "\u001B[1mhttps://www.farsnews.ir/news/14001022000548/پاسخ-عضو-هیأت-رئیسه-به-اختلاف-سراجی-با-فدراسیون-فوتبال\u001B[0m\n",
      "به گزارش خبرنگار ورزشی خبرگزاری فارس، طهمورث حیدری، عضو هیات رئیسه فدراسیون فوتبال در پایان جلسه هیأت رئیسه که امروز برگزار شد در جمع خبرنگاران اظهار داشت: جلسه بسیار خوبی بود و تصمیمات بسیار خوبی در جهت توسعه فوتبال گرفته شد. قرار بر این است که سخنگوی فدراسیون فوتبال اظهارنظر کند. وی در مورد اختلاف سراجی با فدراسیون فوتبال، عنوان کرد: سراجی امروز صحبت‌های خیلی خوبی کرد و تعامل‌ بسیار خوبی با اعضای هیأت رئیسه دارد و امروز هم در جلسه حضور داشت. انتهای پیام/\n",
      "\n",
      "Rank 9\n",
      "Document ID: 340\n",
      "Similarity Score: 0.1085\n",
      "\u001B[1mآی تی سی مدافع برزیلی استقلال صادر شد\u001B[0m\n",
      "\u001B[1mhttps://www.farsnews.ir/news/14001219000609/آی-تی-سی-مدافع-برزیلی-استقلال-صادر-شد\u001B[0m\n",
      "به گزارش خبرگزاری فارس، آی‌تی‌سی رافائل سیلوا مدافع جدید و برزیلی تیم فوتبال استقلال صادر شد. استقلال فردا در ادامه رقابت های لیگ برتر فوتبال میزبان نفت آبادان خواهد بود. انتهای پیام/\n",
      "\n",
      "Rank 10\n",
      "Document ID: 2123\n",
      "Similarity Score: 0.1078\n",
      "\u001B[1mتمرین فردای استقلال تعطیل شد\u001B[0m\n",
      "\u001B[1mhttps://www.farsnews.ir/news/14001125000682/تمرین-فردای-استقلال-تعطیل-شد\u001B[0m\n",
      "به گزارش خبرنگار ورزشی خبرگزاری فارس، تیم فوتبال استقلال بعد از دیدار مقابل ذوب‌آهن اصفهان امروز یک تمرین ریکاوری را در مجموعه ورزشی آرارات برگزار کرد. شاگردان مجیدی امروز حدود یک ساعت تمرین ریکاوری برگزار کرده و بازیکنانی که در ترکیب این تیم مقابل ذوب‌آهن به میدان نرفتند، فوتبال درون تیمی انجام دادند. تمرین فردای تیم فوتبال استقلال با نظر کادر فنی این تیم تعطیل اعلام شده و آنها استراحت خواهند کرد. تیم فوتبال استقلال در هفته هفدهم رقابت‌های لیگ برتر روز جمعه در تبریز به مصاف تراکتور می‌رود. انتهای پیام/\n",
      "\n"
     ]
    },
    {
     "name": "stderr",
     "output_type": "stream",
     "text": [
      "\n"
     ]
    }
   ],
   "source": [
    "query_text = \"فوتبال\"\n",
    "similarity_function = 'cosine'\n",
    "k = 10\n",
    "query1 = query(query_text, similarity_function, k)"
   ],
   "metadata": {
    "collapsed": false,
    "ExecuteTime": {
     "end_time": "2024-01-31T16:54:51.858136Z",
     "start_time": "2024-01-31T16:54:51.796751Z"
    }
   }
  },
  {
   "cell_type": "code",
   "execution_count": 60,
   "outputs": [
    {
     "name": "stderr",
     "output_type": "stream",
     "text": [
      "Calculating Similarity: 100%|██████████| 12202/12202 [00:00<00:00, 315183.69it/s]"
     ]
    },
    {
     "name": "stdout",
     "output_type": "stream",
     "text": [
      "Execution Time: 0.0405 seconds\n",
      "Top 10 documents most relevant to the query:\n",
      "\n",
      "Rank 1\n",
      "Document ID: 6383\n",
      "Similarity Score: 0.1348\n",
      "\u001B[1mبرگزاری نشست هم اندیشی هیات‌رئیسه فدراسیون و روسای هیات‌های فوتبال در اصفهان\u001B[0m\n",
      "\u001B[1mhttps://www.farsnews.ir/news/14001001000273/برگزاری-نشست-هم-اندیشی-هیات‌رئیسه-فدراسیون-و-روسای-هیات‌های-فوتبال-در\u001B[0m\n",
      "به گزارش خبرنگار ورزشی خبرگزاری فارس، نشست اعضای هیات رئیسه فدراسیون فوتبال و روسای هیات‌های فوتبال کل کشور فردا برگزار می شود. این نشست فردا در اصفهان برگزار خواهد شد و اعضا در مورد مسائل مختلف در فوتبال کشور به بحث و تبادل نظر خواهند پرداخت. قرار است اعضای هیات رئیسه فدراسیون و همچنین شهاب عزیزی خادم امروز راهی اصفهان شوند.  انتهای پیام/\n",
      "\n",
      "Rank 2\n",
      "Document ID: 719\n",
      "Similarity Score: 0.1345\n",
      "\u001B[1mبرگزاری مجمع انتخاباتی هیات فوتبال خراسان با حضور اعضای هیات رئیسه فدراسیون\u001B[0m\n",
      "\u001B[1mhttps://www.farsnews.ir/news/14001215000166/برگزاری-مجمع-انتخاباتی-هیات-فوتبال-خراسان-با-حضور-اعضای-هیات-رئیسه\u001B[0m\n",
      "به گزارش خبرنگار ورزشی خبرگزاری فارس، مجمع هیات فوتبال استان خراسان قرار است روز پنجشنبه 19 اسفند در مشهد برگزار شود. در این مجمع اعضای هیات رئیسه فدراسیون فوتبال هم حضور خواهند داشت و زیر نظر مدیران ارشد این فدراسیون برگزار خواهد شد. قرار است جلسه هیات رئیسه فدراسیون فوتبال هم بعد از برگزاری این مجمع در مشهد برگزار شود. این دومین جلسه رسمی هیات رئیسه فدراسیون فوتبال بعد از انتخاب سرپرست جدید خواهد بود. انتهای پیام/  \n",
      "\n",
      "Rank 3\n",
      "Document ID: 1523\n",
      "Similarity Score: 0.1283\n",
      "\u001B[1mاستیلی سرپرست تیم ملی فوتبال شد\u001B[0m\n",
      "\u001B[1mhttps://www.farsnews.ir/news/14001204000668/استیلی-سرپرست-تیم-ملی-فوتبال-شد\u001B[0m\n",
      "به گزارش خبرنگار ورزشی خبرگزاری فارس، حمید استیلی بازیکن اسبق تیم ملی فوتبال ایران به عنوان سرپرست تیم ملی فوتبال انتخاب شد. قرار است وی به زودی امور سرپرستی تیم ملی را بر عهده دارد. پیش از این مجتبی خورشیدی سرپرستی تیم ملی فوتبال را بر عهده داشت. انتهای پیام/\n",
      "\n",
      "Rank 4\n",
      "Document ID: 3603\n",
      "Similarity Score: 0.1218\n",
      "\u001B[1mحضور سجادی در تمرین تیم ملی بعد از خروج خبرنگاران\u001B[0m\n",
      "\u001B[1mhttps://www.farsnews.ir/news/14001106000698/حضور-سجادی-در-تمرین-تیم-ملی-بعد-از-خروج-خبرنگاران\u001B[0m\n",
      "به گزارش خبرنگار ورزشی خبرگزاری فارس، در شرایطی که تمرین تیم ملی امروز با حضور 15 دقیقه ای خبرنگاران رسانه های گروهی برگزار شد. حمید سجادی وزیر ورزش و جوانان در مرکز ملی فوتبال حضور پیدا کرد. سجادی به همراه رئیس فدراسیون فوتبال در شرایطی در تمرین تیم ملی حضور پیدا کرد که برای دقایقی با اسکوچیچ و بازیکنان به صحت پرداخت. تیم ملی فوتبال کشورمان فردا به مصاف تیم ملی عراق می رود. انتهای پیام/\n",
      "\n",
      "Rank 5\n",
      "Document ID: 3879\n",
      "Similarity Score: 0.1171\n",
      "\u001B[1mتمرینات فولاد فقط 2 روز تعطیل شد\u001B[0m\n",
      "\u001B[1mhttps://www.farsnews.ir/news/14001103000514/تمرینات-فولاد-فقط-2-روز-تعطیل-شد\u001B[0m\n",
      "به گزارش خبرنگار ورزشی خبرگزاری فارس، تمرینات تیم فوتبال فولاد خوزستان بعد از باخت شب گذشته این تیم مقابل پرسپولیس فقط 2 روز تعطیل اعلام شد. شاگردان جواد نکونام قرار است از روز سه شنبه تمرینات خود را برای نیم فصل دوم آغاز کنند. تیم فوتبال فولاد با 21 امتیاز در رده هشتم جدول قرار دارد. انتهای پیام/\n",
      "\n",
      "Rank 6\n",
      "Document ID: 4405\n",
      "Similarity Score: 0.1170\n",
      "\u001B[1mاعلام ساعت دیدارهای تیم ملی مقابل عراق و امارات\u001B[0m\n",
      "\u001B[1mhttps://www.farsnews.ir/news/14001027000611/اعلام-ساعت-دیدارهای-تیم-ملی-مقابل-عراق-و-امارات\u001B[0m\n",
      "به گزارش خبرگزاری فارس و به نقل از سایت فدراسیون فوتبال، کنفدراسیون فوتبال آسیا با ارسال نامه‌ای ساعت دو بازی ایران مقابل عراق و امارات را اعلام کرد. بر اساس نامه ارسالی AFC دو بازی تیم ملی فوتبال ایران مقابل عراق (7 بهمن) و امارات (12 بهمن) راس ساعت 18:00 برگزار خواهد شد. انتهای پیام/\n",
      "\n",
      "Rank 7\n",
      "Document ID: 2009\n",
      "Similarity Score: 0.1140\n",
      "\u001B[1mبهاروند و مهرعلی مجوز حضور در نشست هیات رئیسه را پیدا نکردند/خروج 2 عضو غیرقانونی از مرکز ملی فوتبال\u001B[0m\n",
      "\u001B[1mhttps://www.farsnews.ir/news/14001128000158/بهاروند-و-مهرعلی-مجوز-حضور-در-نشست-هیات-رئیسه-را-پیدا-نکردند-خروج-2\u001B[0m\n",
      "به گزارش خبرنگار ورزشی خبرگزاری فارس، نشست اعضای هیات رئیسه فدراسیون فوتبال صبح امروز در شرایطی در مرکز ملی فوتبال برگزار شد که پیش از این کنفدراسیون فوتبال آسیا در نامه‌ای اعلام کرد که حیدر بهاروند و حمیدرضا مهرعلی به دلیل حضور غیرقانونی در فدراسیون نمی‌توانند در این نشست شرکت کنند. با این وجود  هر دو نفر در مرکز ملی فوتبال حاضر شده اما با تذکر حسن کامرانی‌فر مجوز ورود به جلسه هیات رئیسه فدراسیون فوتبال را پیدا نکردند. بعد از این اتفاق هر دو نفر مرکز تیم‌های ملی را ترک کردند. نشست اعضای هیات رئیسه فدراسیون فوتبال در حال برگزاری است. انتهای پیام/\n",
      "\n",
      "Rank 8\n",
      "Document ID: 4840\n",
      "Similarity Score: 0.1139\n",
      "\u001B[1mپاسخ عضو هیأت رئیسه به اختلاف سراجی با فدراسیون فوتبال\u001B[0m\n",
      "\u001B[1mhttps://www.farsnews.ir/news/14001022000548/پاسخ-عضو-هیأت-رئیسه-به-اختلاف-سراجی-با-فدراسیون-فوتبال\u001B[0m\n",
      "به گزارش خبرنگار ورزشی خبرگزاری فارس، طهمورث حیدری، عضو هیات رئیسه فدراسیون فوتبال در پایان جلسه هیأت رئیسه که امروز برگزار شد در جمع خبرنگاران اظهار داشت: جلسه بسیار خوبی بود و تصمیمات بسیار خوبی در جهت توسعه فوتبال گرفته شد. قرار بر این است که سخنگوی فدراسیون فوتبال اظهارنظر کند. وی در مورد اختلاف سراجی با فدراسیون فوتبال، عنوان کرد: سراجی امروز صحبت‌های خیلی خوبی کرد و تعامل‌ بسیار خوبی با اعضای هیأت رئیسه دارد و امروز هم در جلسه حضور داشت. انتهای پیام/\n",
      "\n",
      "Rank 9\n",
      "Document ID: 340\n",
      "Similarity Score: 0.1085\n",
      "\u001B[1mآی تی سی مدافع برزیلی استقلال صادر شد\u001B[0m\n",
      "\u001B[1mhttps://www.farsnews.ir/news/14001219000609/آی-تی-سی-مدافع-برزیلی-استقلال-صادر-شد\u001B[0m\n",
      "به گزارش خبرگزاری فارس، آی‌تی‌سی رافائل سیلوا مدافع جدید و برزیلی تیم فوتبال استقلال صادر شد. استقلال فردا در ادامه رقابت های لیگ برتر فوتبال میزبان نفت آبادان خواهد بود. انتهای پیام/\n",
      "\n",
      "Rank 10\n",
      "Document ID: 2123\n",
      "Similarity Score: 0.1078\n",
      "\u001B[1mتمرین فردای استقلال تعطیل شد\u001B[0m\n",
      "\u001B[1mhttps://www.farsnews.ir/news/14001125000682/تمرین-فردای-استقلال-تعطیل-شد\u001B[0m\n",
      "به گزارش خبرنگار ورزشی خبرگزاری فارس، تیم فوتبال استقلال بعد از دیدار مقابل ذوب‌آهن اصفهان امروز یک تمرین ریکاوری را در مجموعه ورزشی آرارات برگزار کرد. شاگردان مجیدی امروز حدود یک ساعت تمرین ریکاوری برگزار کرده و بازیکنانی که در ترکیب این تیم مقابل ذوب‌آهن به میدان نرفتند، فوتبال درون تیمی انجام دادند. تمرین فردای تیم فوتبال استقلال با نظر کادر فنی این تیم تعطیل اعلام شده و آنها استراحت خواهند کرد. تیم فوتبال استقلال در هفته هفدهم رقابت‌های لیگ برتر روز جمعه در تبریز به مصاف تراکتور می‌رود. انتهای پیام/\n",
      "\n"
     ]
    },
    {
     "name": "stderr",
     "output_type": "stream",
     "text": [
      "\n"
     ]
    }
   ],
   "source": [
    "query_text = \"فوتبال\"\n",
    "similarity_function = 'cosine'\n",
    "k = 10\n",
    "query1 = query(query_text, similarity_function, k, use_champion_list=True)"
   ],
   "metadata": {
    "collapsed": false,
    "ExecuteTime": {
     "end_time": "2024-01-31T16:58:54.448586Z",
     "start_time": "2024-01-31T16:58:54.398365Z"
    }
   }
  },
  {
   "cell_type": "code",
   "execution_count": 61,
   "outputs": [
    {
     "name": "stderr",
     "output_type": "stream",
     "text": [
      "Calculating Similarity: 100%|██████████| 12202/12202 [00:00<00:00, 266773.51it/s]"
     ]
    },
    {
     "name": "stdout",
     "output_type": "stream",
     "text": [
      "Execution Time: 0.0484 seconds\n",
      "Top 10 documents most relevant to the query:\n",
      "\n",
      "Rank 1\n",
      "Document ID: 1143\n",
      "Similarity Score: 0.1802\n",
      "\u001B[1mواکنش قاسمی به حضور مادرش در سالن: گفته بودم یا می‌برم یا می‌میرم\u001B[0m\n",
      "\u001B[1mhttps://www.farsnews.ir/news/14001208001155/واکنش-قاسمی-به-حضور-مادرش-در-سالن-گفته-بودم-یا-می‌برم-یا-می‌میرم\u001B[0m\n",
      "به گزارش خبرنگار ورزشی خبرگزاری فارس، فینال سنگین وزن کشتی فرنگی جام تختی در حال بین امیرقاسمی و فرنگی‌کار ارمنستان برگزار شد که مادر کشتی‌گیر کشورمان در سالن حضور داشت و با گریه برای قهرمانی فرزندش دعا می‌کرد. امیرقاسمی منجزی فرنگی‌کار وزن 130 کیلوگرم در خصوص قهرمانی در جام تختی و همچنین حضور مادرش برای تماشای مبارزه فینال، عنوان کرد: خدا را شکر می‌کنم مسابقات تمام شد؛ واقعا یکی از سخت‌ترین کشتی‌های زندگی‌ام را در مبارزه فینال انجام دادم، چرا که نمی‌دانستم به فشار و استرس مبارزه فینال غلبه کنم یا اینکه مادرم آن بالا اتفاقی برایش رخ ندهد و پَس نیافتد. دارنده 2 مدال طلای قهرمانی آسیا ادامه داد: مسابقات جام تختی در سطح بالایی برگزار شد و خیلی سخت بود. خدا را شکر توانستم حداقل در این شرایط بد کرونایی و اقتصادی ذره‌ای دل مردم را شاد کرده باشم. این فرنگی‌کار اهل مسجد سلیمان در خصوص فریادهای مادرش در مبارزه فینال اظهار داشت: خیلی سخت بود و دیگر هیچ وقت اجازه نمی‌دهم که برای تماشای مسابقاتم به سالن بیاید. من خیلی اذیت شدم و می‌ترسیدم که او پس بیافتد. قرص آرامش بخش به او دادیم که مشکلی پیش نیاید.  وی در پاسخ به این سوال که در صورت شکست مقابل دیدگاه مادرش چه می‌کرد، یادآور شد: عهد کرده بودم یا می‌برم یا می‌میرم. منجزی درباره تیم ملی نیز اظهار داشت: من کشتی‌گیر ایرانم و فرقی ندارد کجا باشم فقط می‌جنگم چه پشت خط چه جلوی خط. انتهای پیام/\n",
      "\n",
      "Rank 2\n",
      "Document ID: 10642\n",
      "Similarity Score: 0.1550\n",
      "\u001B[1mحقیقت‌پور: صهیونیست‌ها با اقدامات ضد ایرانی به دنبال کسب مشروعیت هستند\u001B[0m\n",
      "\u001B[1mhttps://www.farsnews.ir/news/14000829000315/حقیقت‌پور-صهیونیست‌ها-با-اقدامات-ضد-ایرانی-به-دنبال-کسب-مشروعیت-هستند\u001B[0m\n",
      "\n",
      "\n",
      "Rank 3\n",
      "Document ID: 4910\n",
      "Similarity Score: 0.1179\n",
      "\u001B[1mسخندان: ناراحتی ام صحت دارد، چند روز به فدراسیون نرفتم/ اول آموزش داوران مهم است بعد ورود VAR\u001B[0m\n",
      "\u001B[1mhttps://www.farsnews.ir/news/14001021000676/سخندان-ناراحتی-ام-صحت-دارد-چند-روز-به-فدراسیون-نرفتم-اول-آموزش\u001B[0m\n",
      "به گزارش خبرنگار ورزشی خبرگزاری فارس، رضا سخندان در حاشیه جلسه کمیته داوران اظهار داشت: امروز دومین جلسه کمیته داوران بود، یک ماه پیش هم اولین نشست برگزار شد، یکسری مسائل در آن جلسه مطرح شد و قرار شد دوستان آن را بررسی کنند. قرار است مصوبات جلسه امروز به داوران و هیات‌های فوتبال ابلاغ شود و مسیر ما برای آنها روشن شود. وی در پاسخ به این سوال که پیش از این قول‌هایی به داوران برای افزایش حقوق آنها داده شد اما چه زمانی قرار است مشکلات آنها حل شود گفت: یکی از بزرگ‌ترین مشکلات این فدراسیون مباحث مالی است که از سال‌های گذشته باقی مانده است. یکی از آنها پرونده ویلموتس است. از زمانی که عزیزی‌خادم آمده به دنبال حل مشکلات بوده، مثلا تیم ملی ما با پرواز چارتر می رود و بانوان ما هم با پرواز اختصاصی راهی سفر می شود. رئیس دپارتمان داوران گفت: یکسری مشکلات مالی باعث می‌شود  تهیه هدست‌ها، لباس‌های داوری و ... به تاخیر بیفتد. مثلا به دنبال این هستیم به صورت غیر مستقیم هدست‌ها را وارد کنیم چون تحریم هستیم. شاید در تعطیلات نیم فصل این فرصت نصیب ما شود که بتوانیم این سیستم را برای داوران وارد کنیم. سخندان خاطر نشان کرد: شرکتی که به ما هدست آزمایشی داده بود را تست کردیم ولی به درد ما نخورد.3-4 بازی از آن استفاده کردیم و داوران راضی نبودند. حالا از شرکتی که فیفا از آنها استفاده می‌کند استفاده می‌کنیم. هدست‌های 6 نفره سفارش دادیم و اگر VAR هم وارد شود این هدست‌ها با این سیستم لینک می‌شوند و مشکلی نخواهیم داشت. وی در خصوص اینکه در دیدار ایرانم و عراق چگونه باید از VAR استفاده کرد گفت: آخرین خبر من این است که با شرکت روسی وارد مذاکره شدند و اجاره‌ای هم نیست. همه دنبال آوردن VAR هستند ولی قبل از آن داوران ما باید آموزش ببینند. من در فیفا این پروسه را طی کردم. بعد از جام جهانی 2014 و اتفاقات دیدار آلمان و انگلیس پیگیر شدند که این سیتم وارد فوتبال شود. ابتدا از آموزش داوران این کار آغاز شد و حتی در زمان جام جهانی کلاس‌هایی برگزار شد. در نهایت این سیستم در جام کنفدراسیون‌ها استفاده و اشکالاتش برطرف شد و سپس در جام جهانی مورد استفاده قرار گرفت. رئیس دپارتمان داوران گفت: همه این روزها عجله دارند و مرتب می‌گویند VAR بیاورید. اگر قرار باشد این سیستم وارد شود و اشکال داشته باشد و داوران درست آموزش نبینند قطعا مشکلات بعدی را در پیش داریم. از اهالی فوتبال و رسانه‌ها می‌خواهم صبر و حوصله کنند،قطعا بحث تحریم‌ها است، تاریخ دقیقی هم نمی‌شود اعلام کرد. اگر حرف بزنیم می‌گویند فلانی تاریخ اعلام کرد ولی این سیستم وارد کشور نشد. نمی‌توانیم تاریخ دقیقی اعلام کنیم ولی طبق صحبت عزیزی خادم با اینفانتینو قرار است در اواسط بهمن ماه اولین دوره کلاس‌های آموزشی برای داوران برگزار شود. سخندان تاکید کرد: دقیق نمی‌دانم ولی با این شرایط در دیدار ایران و عراق و همچنین امارات VAR در کار نخواهد بود. وی در خصوص شایعاتی که پیرامون اختلافش با افشاریان مطرح  و گفته شد ناراحت است گفت: بله، آن ناراحتی که می‌گویید اتفاق افتاد. نمی‌توانم این موضوع را کتمان کنم ولی ناراحتی‌ام از فرد خاصی نبود بلکه از اتفاقاتی بود که در داوری رخ داد. من یکی 2 ماه بود که آمده بودم ولی همه از آقا و خانم از من ناراحت شده بودند.آنها انتظار داشتند مسائل سفر، البسه و ... حل شود.از زمانی که آمدم این شرایط مهیا نبود و فشار زیادی به من وارد شد.  رئیس دپارتمان داوران در خصوص اینکه آیا قصد استعفا داشت یا خیر گفت:هدفم این بود که کار درست انجام شود. حقیقیتا ناراحت هم شدم و چند روز به فدراسیون نرفته و راهی مشهد شدم تا استراحت کنم ولی دوست داشتم وضعیت روشن شود. من تنهایی نمی‌توانم کار کنم. خود عزیزی خادم مشغول کار است و اگر قرار باشد من فقط فکرم لباس و اینگونه مسائل باشد حضور من یا دیگری در این کمیته فرقی نمی‌کند.حالا هم به دنبال این هستیم که مشکلات به حداقل برسد. سخندان در خصوص اینکه شایعه شده بود بر سر انتخاب یک داور  و همچنین چینش ها با افشاریان به مشکل خورده بود گفت: از این مسائل هم هست. کسی که داور لیگ برتر می‌شود از هر نظر باید برتر باشد. من با هیچ فردی مشکل ندارم ولی سلسله مراتب باید رعایت شود. البته کمیته داوران تصمیم گیرنده است و بابت هر تصمیمی پاسخگو است.بله این مسائل هم وجود داشت و امیدوارم در آینده اتفاق دیگری رخ ندهد. وی در خصوص آموزش داوران گفت: یکی از اشکالات گذشته این بود که هیچ آموزشی برای داوران صورت نگرفته بود. داوران با شخصیت بسیار کم داریم اما حالا به استانها سرکشی می‌کنیم و سه تیم داوری در شهر یزد برنامه‌ریزی کردیم که بتوانیم برای سایر داوران آموزش داشته باشیم.اگر این اتفاق رخ بدهد در آینده شاهد شکوفایی داوران جوان کشورمان خواهیم بود. انتهای پیام/\n",
      "\n",
      "Rank 4\n",
      "Document ID: 9\n",
      "Similarity Score: 0.0410\n",
      "\u001B[1mخبر خوب برای استقلال؛ دانشگر با تیم تمرین کرد\u001B[0m\n",
      "\u001B[1mhttps://www.farsnews.ir/news/14001224000819/خبر-خوب-برای-استقلال-دانشگر-با-تیم-تمرین-کرد\u001B[0m\n",
      "به گزارش خبرنگار ورزشی خبرگزاری فارس، تمرین امروز استقلال در شرایطی برگزار شد که محمد دانشگر مدافع مصدوم این تیم در تمرینات گروهی تیمش شرکت کرد. این بازیکن روز گذشته در تمرین تیمش فقط به برنامه‌های اختصاصی پرداخت و به صورت سبک تمرین کرد اما امروز در تمرین گروهی تیمش حضور داشت. تیم فوتبال استقلال برای دربی روز پنجشنبه آماده می‌شود. انتهای پیام/  \n",
      "\n",
      "Rank 5\n",
      "Document ID: 4484\n",
      "Similarity Score: 0.0347\n",
      "\u001B[1mجدایی رجب زاده از قشقایی شیراز\u001B[0m\n",
      "\u001B[1mhttps://www.farsnews.ir/news/14001026000803/جدایی-رجب-زاده-از-قشقایی-شیراز\u001B[0m\n",
      "به گزارش خبرنگار ورزشی خبرگزاری فارس، مهدی رجب زاده سرمربی تیم فوتبال شهدای قشقایی شیراز که تیمش در لیگ دسته اول کشور حضور دارد امروز استعفای خود را به باشگاه اعلام و مورد موافقت اعضای هیات مدیر قرار گرفت. انتهای پیام/  \n",
      "\n",
      "Rank 6\n",
      "Document ID: 3529\n",
      "Similarity Score: 0.0336\n",
      "\u001B[1mحضور وزیر ورزش در ورزشگاه آزادی برای تماشای بازی ایران و عراق\u001B[0m\n",
      "\u001B[1mhttps://www.farsnews.ir/news/14001107000561/حضور-وزیر-ورزش-در-ورزشگاه-آزادی-برای-تماشای-بازی-ایران-و-عراق\u001B[0m\n",
      "به گزارش خبرنگار ورزشی خبرگزاری فارس، تیم‌های ملی فوتبال ایران و عراق از ساعت 18 امروز در چارچوب دیدارهای مرحله نهایی انتخابی جام جهانی 2022 قطر به مصاف هم رفتند. حمید سجادی، وزیر ورزش و جوانان برای تماشای این مسابقه هم به ورزشگاه آزادی آمد. انتهای پیام/\n",
      "\n",
      "Rank 7\n",
      "Document ID: 6026\n",
      "Similarity Score: 0.0333\n",
      "\u001B[1mزمان نشست خبری استقلال مشخص شد\u001B[0m\n",
      "\u001B[1mhttps://www.farsnews.ir/news/14001006000449/زمان-نشست-خبری-استقلال-مشخص-شد\u001B[0m\n",
      "به گزارش خبرگزاری فارس، نشست خبری فرهاد مجیدی سرمربی تیم فوتبال استقلال، پیش از مصاف با فولاد فردا (سه‌شنبه) از ساعت ۱۴ در مجموعه ورزشی آرارات و به میزبانی باشگاه استقلال برگزار می‌شود. دیدار تیم‌های استقلال و فولاد روز چهارشنبه ساعت 17 برگزار خواهد شد. انتهای پیام/\n",
      "\n",
      "Rank 8\n",
      "Document ID: 1063\n",
      "Similarity Score: 0.0328\n",
      "\u001B[1mستاره نفت آبادان بازی با پرسپولیس را از دست داد\u001B[0m\n",
      "\u001B[1mhttps://www.farsnews.ir/news/14001209001007/ستاره-نفت-آبادان-بازی-با-پرسپولیس-را-از-دست-داد\u001B[0m\n",
      "به گزارش خبرنگار ورزشی خبرگزاری فارس، طالب ریکانی ستاره تیم فوتبال نفت آبادان با دریافت کارت قرمز مستقیم در بازی با ذوب ‌آهن دیدار هفته ‌آینده تیمش مقابل پرسپولیس را از دست داد. نفت آبادان هفته آینده در آبادان میزبان پرسپولیس است. انتهای پیام/\n",
      "\n",
      "Rank 9\n",
      "Document ID: 5166\n",
      "Similarity Score: 0.0326\n",
      "\u001B[1mدانشگر از بازی بعدی استقلال محروم شد\u001B[0m\n",
      "\u001B[1mhttps://www.farsnews.ir/news/14001018000856/دانشگر-از-بازی-بعدی-استقلال-محروم-شد\u001B[0m\n",
      "به گزارش خبرنگار ورزشی خبرگزاری فارس، محمد دانشگر مدافع تیم فوتبال استقلال امروز مقابل مس رفسنجان کارت زرد دریافت کرد و از بازی بعدش تیمش محروم شد. استقلال در هفته پانزدهم پنجشنبه 23 دی ماه به مصاف نفت مسجد سلیمان خواهد رفت. انتهای پیام/\n",
      "\n",
      "Rank 10\n",
      "Document ID: 556\n",
      "Similarity Score: 0.0305\n",
      "\u001B[1mقرارداد بازیکن استقلال با ملوان رسمی شد +عکس\u001B[0m\n",
      "\u001B[1mhttps://www.farsnews.ir/news/14001216000761/قرارداد-بازیکن-استقلال-با-ملوان-رسمی-شد-عکس\u001B[0m\n",
      "به گزارش خبرگزاری فارس، محمدحسین مرادمند مدافع تیم فوتبال استقلال با عقد قراردادی تا پایان خدمت سربازی به ملوان پیوست.  مدافع ۲۸ ساله نیم فصل اول استقلال، سابقه بازی در تیم‌های سپاهان و پدیده را نیز دارد.   انتهای پیام/  \n",
      "\n"
     ]
    },
    {
     "name": "stderr",
     "output_type": "stream",
     "text": [
      "\n"
     ]
    }
   ],
   "source": [
    "query_text = \"تیم فوتبال ایران\"\n",
    "similarity_function = 'cosine'\n",
    "k = 10\n",
    "query1 = query(query_text, similarity_function, k)"
   ],
   "metadata": {
    "collapsed": false,
    "ExecuteTime": {
     "end_time": "2024-01-31T17:01:27.667144Z",
     "start_time": "2024-01-31T17:01:27.610870Z"
    }
   }
  },
  {
   "cell_type": "code",
   "execution_count": 62,
   "outputs": [
    {
     "name": "stderr",
     "output_type": "stream",
     "text": [
      "Calculating Similarity: 100%|██████████| 12202/12202 [00:00<00:00, 433267.84it/s]"
     ]
    },
    {
     "name": "stdout",
     "output_type": "stream",
     "text": [
      "Execution Time: 0.0310 seconds\n",
      "Top 10 documents most relevant to the query:\n",
      "\n",
      "Rank 1\n",
      "Document ID: 10999\n",
      "Similarity Score: 0.1723\n",
      "\u001B[1mبیانیه فراکسیون ایثارگری مجلس: به فیاضی رای می‌دهیم\u001B[0m\n",
      "\u001B[1mhttps://www.farsnews.ir/news/14000825000074/بیانیه-فراکسیون-ایثارگری-مجلس-به-فیاضی-رای-می‌دهیم\u001B[0m\n",
      "\n",
      "\n",
      "Rank 2\n",
      "Document ID: 9541\n",
      "Similarity Score: 0.1572\n",
      "\u001B[1mتأکید بر تزریق دوز یادآور واکسن کرونا برای مقابله با سویه اومیکرون\u001B[0m\n",
      "\u001B[1mhttps://www.farsnews.ir/news/14001001000753/تأکید-بر-تزریق-دوز-یادآور-واکسن-کرونا-برای-مقابله-با-سویه-اومیکرون\u001B[0m\n",
      "\n",
      "\n",
      "Rank 3\n",
      "Document ID: 1541\n",
      "Similarity Score: 0.1539\n",
      "\u001B[1mتور جهانی تنیس برزیل| پیروزی دختر تاریخ ساز مقابل تنیسور میزبان\u001B[0m\n",
      "\u001B[1mhttps://www.farsnews.ir/news/14001204000315/تور-جهانی-تنیس-برزیل|-پیروزی-دختر-تاریخ-ساز-مقابل-تنیسور-میزبان\u001B[0m\n",
      "به گزارش خبرگزاری فارس، جدول اصلی مسابقات تور جهانی زیر ۱۸ سال ( سطح یک دنیا)  به میزبانی برزیل آغاز  شد و صفی به عنوان تنها نماینده کشورمان در بخش انفرادی به مصاف تنیسوری از کشور میزبان رفت.  در راند نخست جدول اصلی بخش انفرادی ، مشکات الزهرا صفی با نتیجه (۱-۶ ، ۶-۲ و ۰-۶ ) در مجموع ۲ بر یک‌ مقابل ماریا کارولینا از برزیل به پیروزی دست یافت.  صفی با برتری مقابل نماینده میزبان در مرحله بعدی مسابقات به مصاف تنیسوری از کانادا می‌رود.  در بخش دونفره نیز مشکات الزهرا صفی به همراه نماینده اکوادور در راند یک جدول اصلی با تیم سوییس و آمریکا مسابقه می‌دهد.  در این دوره از مسابقات تنیسورهایی از کشورهای ایران، کانادا، اکراین ، چک ، آمریکا ، مجارستان ، صربستان ، آرژانتین ، لهستان پرتغال ، پرو سوییس ، نیوزلند ، برزیل و اسلواکی حضور دارند. انتهای پیام/\n",
      "\n",
      "Rank 4\n",
      "Document ID: 3478\n",
      "Similarity Score: 0.1487\n",
      "\u001B[1mانتخابی جام جهانی| پیروزی آرژانتین بدون مسی ؛ تساوی برزیل و گلزنی سوارز\u001B[0m\n",
      "\u001B[1mhttps://www.farsnews.ir/news/14001108000067/انتخابی-جام-جهانی|-پیروزی-آرژانتین-بدون-مسی-تساوی-برزیل-و-گلزنی-سوارز\u001B[0m\n",
      "به گزارش خبرگزاری فارس، بامداد امروز در چارچوب رقابت‌های انتخابی جام جهانی در آمریکای جنوبی، 3 بازی برگزار شد که در مهمترین آنها تیم ملی اروگوئه در مصاف با پاراگوئه به برتری یک بر صفر رسید.در این مسابقه اروگوئه با گلزنی لوئیس سوارز به برتری رسید تا با 19 امتیازی به رده چهارم جدول صعود کند. تیم ملی برزیل که صعود خود را پیشتر قطعی کرده، مقابل اکوادور به تساوی یک بر یک رسید و آرژانتین بدون مسی نیز مقابل شیلی برد 2 بر یک را به ثبت رساند.  آرژانتین که صعودش به جام جهانی قطعی شده با این برد 32 امتیازی شد و جایگاهش در رده دوم را تثبیت کرد. در جدول انتخابی جام جهانی 2022 قطر، برزیل با 36 امتیاز صدرنشین ، آرژانتین با 32 امتیاز دوم و تیم‌های اکوادور 24 ، اروگوئه 19 ،‌کلمبیا 17 ، پرو 17 و شیلی 16 در رده‌های سوم تا هفتم جای دارند. بامداد امروز در انتخابی جام جهانی آمریکای مرکزی و شمالی (کونکاکاف) ، 4 بازی برگزار شد که نتایج آن به شرح زیر است: جاماییکا یک – مکزیک 2 آمریکا یک – السالوادور صفر هوندراس صفر – کانادا 2 کاستاریکا یک – پاناما صفر  انتهای پیام/\n",
      "\n",
      "Rank 5\n",
      "Document ID: 2152\n",
      "Similarity Score: 0.1382\n",
      "\u001B[1mرقابت پدیده تنیس ایران با نماینده چک در تور جهانی برزیل\u001B[0m\n",
      "\u001B[1mhttps://www.farsnews.ir/news/14001125000207/رقابت-پدیده-تنیس-ایران-با-نماینده-چک-در-تور-جهانی-برزیل\u001B[0m\n",
      "به گزارش خبرگزاری فارس و به نقل از  سایت فدراسیون تنیس، در حالی جدول اصلی مسابقات تور جهانی برزیل ( سطح یک دنیا) از امروز در شهر پرتوالگره آغاز می‌شود که بر اساس قرعه‌، نماینده ایران در این دوره از رقابت‌ها به مصاف تنیسوری از چک می‌رود.  در پایان جدول مقدماتی و معرفی تنیسورهای راه‌یافته به مرحله بعدی بازی‌ها، جدول اصلی قرعه‌کشی شد و‌ مشکات‌الزهرا صفی تنها نماینده ایران در این مسابقات باید در راند نخست با اسمیچ کالوفا از کشور چک مسابقه دهد.  مشکات‌الزهرا صفی با رنک ۷۸ و‌ نماینده چک با رنک ۷۶ دنیا فردا در نخستین دیدار خود در تور جهانی برزیل رو در روی یکدیگر قرار می‌گیرند.  در این دوره از مسابقات تنیسورهایی از کشورهای ایران، کانادا، چک، آمریکا، صربستان، اسلواکی، پرو، مجارستان، آرژانتین، اوکراین، پاراگوئه و برزیل حضور دارند.  مشکات‌الزهرا صفی که صاحب رنک ۷۸ دنیاست در این دوره از رقابت‌ها به مصاف برترین‌های دنیا در رده سنی زیر ۱۸ سال می‌رود. نماینده کشورمان پیش از این به عنوان اولین ایرانی خود را در نخستین مسابقات گرند اسلم‌ سال ۲۰۲۲ در استرالیا محک زد. انتهای پیام/\n",
      "\n",
      "Rank 6\n",
      "Document ID: 2026\n",
      "Similarity Score: 0.1381\n",
      "\u001B[1mپیروزی دختر تاریخ ساز تنیس  در بخش دونفره تور جهانی برزیل\u001B[0m\n",
      "\u001B[1mhttps://www.farsnews.ir/news/14001127001104/پیروزی-دختر-تاریخ-ساز-تنیس-در-بخش-دونفره-تور-جهانی-برزیل\u001B[0m\n",
      "به گزارش خبرگزاری فارس، جدول اصلی مسابقات تور جهانی زیر ۱۸ سال ( سطح یک دنیا)  به میزبانی برزیل برگزار شد و صفی به عنوان تنها نماینده کشورمان در بخش انفرادی و دو نفره به مصاف حریفان خود رفت.  در راند نخست جدول اصلی بخش انفرادی ، مشکات الزهرا صفی با نتیجه (۲-۶ و ۱-۶) مقابل اسمیچ کالوفا از چک شکست خورد .  در بخش دونفره نیز مشکات الزهرا صفی به همراه آبراهام از امریکا با نتیجه (۴-۶ ، ۶-۱ و‌۷-۱۰ ) مقابل زوج برزیل و لهستان به پیروزی دست یافتند تا پس از رسیدن به جمع ۸ تیم برتر مسابقات در دومین دیدار خود در این مرحله با نمایندگان اسلواکی روبرو شوند.  در این دوره از مسابقات تنیسورهایی از کشورهای ایران، کانادا، چک ، آمریکا ، صربستان ، اسلواکی ، پرو ، مجارستان ، آرژانتین ، اکراین ، پاراگوئه و برزیل حضور دارند.  مشکات‌الزهرا صفی که صاحب رنک ۷۸ دنیاست در این دوره از رقابت‌ها به مصاف برترین‌های دنیا در رده سنی زیر ۱۸ سال می‌رود. نماینده کشورمان پیش از این به عنوان اولین ایرانی خود را در نخستین مسابقات گرند اسلم‌ سال ۲۰۲۲ در استرالیا محک زد. انتهای پیام/\n",
      "\n",
      "Rank 7\n",
      "Document ID: 3092\n",
      "Similarity Score: 0.1362\n",
      "\u001B[1mانتخابی جام جهانی 2022| آتش‌ بازی برزیل و اروگوئه در شب برد آرژانتین\u001B[0m\n",
      "\u001B[1mhttps://www.farsnews.ir/news/14001113000107/انتخابی-جام-جهانی-2022|-آتش‌-بازی-برزیل-و-اروگوئه-در-شب-برد-آرژانتین\u001B[0m\n",
      "به گزارش خبرگزاری فارس، بامداد امروز در چارچوب انتخابی جام جهانی در آمریکای جنوبی، 5 بازی برگزار شد که در مهمترین آنها برزیل به بردی پرگل رسید و آرژانتین از سد کلمبیا گذشت. تیم ملی برزیل که پیش از این صعود خود را به جام جهانی مسجل کرده به مصاف پاراگوئه رفت و به برتری 4 بر صفر رسید. در این مسابقه رافینیا 28 ، کوتینیو 62 ، آنتونی 86 و رودریگو 88 برای سلسائو گلزنی کردند.  در دیگر بازی، آرژانتین صعود کرده به مصاف کلمبیا رفت و با گلزنی لائوتارو مارتینز 29 به برتری یک بر صفر رسید تا یک پیروزی دیگر بدون مسی را به ثبت رسانند.کلمبیا نیز با این شکست یک قدم از صعود به جام جهانی دورتر شد تا کار سختی در ادامه مسیر داشته باشد. نتایج دیگر بازی‌ها به شرح زیر است:  بولیوی 2 - شیلی 3 گل‌ها: الکسیس سانچس (2گل) - نونز برای شیلی اروگوئه 4 - ونزوئلا 1 گل‌ها: بنتانکور - دی آراسکیاتو - کاوانی- سوارز برای اروگوئه پرو یک - اکوادور یک جدول انتخابی جام جهانی در آمریکای جنوبی به شکل زیر است. 4 تیم به صورت به مستقیم صعود خواهند کرد و تیم پنجم راهی پلی‌آف خواهد شد.    انتهای پیام/\n",
      "\n",
      "Rank 8\n",
      "Document ID: 10411\n",
      "Similarity Score: 0.1337\n",
      "\u001B[1mکم‌کاری‌‌های گذشته برای اجرای نقشه مهندسی فرهنگی باید جبران شود\u001B[0m\n",
      "\u001B[1mhttps://www.farsnews.ir/news/14000909000641/کم‌کاری‌‌های-گذشته-برای-اجرای-نقشه-مهندسی-فرهنگی-باید-جبران-شود\u001B[0m\n",
      "به گزارش خبرنگار خبرنگار سیاسی خبرگزاری فارس، سیدمحمد حسینی معاون پارلمانی رئیس‌جمهور در شورای فرهنگ عمومی خراسان گفت: نقشه مهندسی فرهنگی کشور در سال ۹۲ نهایی و بعد ابلاغ شده ولی متاسفانه در هشت سال گذشته با جدیت به آن توجهی نشده است و هم اکنون باید با یک اهتمام ویژه کارهایی که انجام نشده و کم‌کاری‌هایی که شده جبران شود. وی ادامه داد: انشاالله با رویکرد انقلابی و جهادی‌ای که در مسئولان وجود دارد به مسایل فرهنگی توجه ویژه شود. زمینه‌های بسیار خوب و ظرفیت‌های خوبی در خراسان و کشور در این زمینه وجود دارد. حسینی افزود: درست است که مشکلات معیشتی و سختی های اقتصادی مردم را با مشکل مواجه کرده و حتماً هم اولویت دولت و استانداران این است که این موضوع حل شود ولی نباید فرهنگ را فراموش کنیم. خیلی از مسائل اقتصادی هم اگر با نگاه فرهنگی پیگیری شود حل خواهد شد و مقام معظم رهبری هم در کنار بحث اقتصاد بر اهمیت فرهنگ و علم تاکید کردند. معاون رئیس جمهور با بیان اینکه جلسات شورای فرهنگی باید به صورت جدی و منظم برگزار شود، گفت: مشهد به برکت شمس الشموس قطب فرهنگی کشور است و انوار  این آفتاب معنوی باید در سپهر کشور منتشر شود. وی گفت:  خاطر این استان از اهمیت بسیاری برخوردار است و به همین منظور نیاز است که در استان با جدیت بیشتری به مسائل فرهنگی توجه شود. حسینی با اشاره به اهمیت سواد رسانه ای گفت: اگر ما در این زمینه فعال نباشیم همه زحمت ما هدر می رود و این همه شبهه افکنی ها و دروغ پردازی ها و شبهاتی که مطرح می‌شود مشکل ایجاد می کند. دولت حدود سه ماه است کارش را شروع کرده و ببینید چگونه انتظارات را در جامعه بالا می‌برند و به چه مشکلاتی دامن می زنند. به طور مثال در بحث آب می بینید به چه مسائلی دامن می زنند. وی گفت: درباره نقشه مهندسی فرهنگی کشور و برخی اسناد بالادستی مانند بحث تحول بنیادین در آموزش و پروش و اسلامی شدن دانشگاه ها این شاید کارهایی صورت گرفته اما آنگونه که رهبر انقلاب مطالبه داشتند کار انجام نشده و امروز رئیس جمهور خودشان مصمم هستند تا کارها با سرعت و قدرت پیگیری می شود. رئیس جمهور وقت می گذارند و مسئولان همه پیگیر هستند انشالله مسئولان استانی هم همین گونه باشند تا مشکلات سریع تر حل شود. حسینی اظهار داشت: در بحث بودجه به مسئله فرهنگ توجه جدی شده و یک انسجام و هماهنگی بیشتری وجود دارد و  نهادهای انقلابی و دستگاه‌های اجرایی همه در تلاش هستند و وقتی همه دست به دست هم بدهند یک هم افزایی صورت می گیرد بسیاری مشکلات حل خواهد شد. انتهای پیام/\n",
      "\n",
      "Rank 9\n",
      "Document ID: 10552\n",
      "Similarity Score: 0.1270\n",
      "\u001B[1mموافق وزیر پیشنهادی/ «نوری» می‌تواند آینده تربیت فرزندان این سرزمین را روشن کند\u001B[0m\n",
      "\u001B[1mhttps://www.farsnews.ir/news/14000907000178/موافق-وزیر-پیشنهادی-نوری-می‌تواند-آینده-تربیت-فرزندان-این-سرزمین-را\u001B[0m\n",
      "\n",
      "\n",
      "Rank 10\n",
      "Document ID: 9412\n",
      "Similarity Score: 0.1247\n",
      "\u001B[1mرئیس دیوان محاسبات میلاد حضرت مسیح و آغاز سال جدید میلادی را تبریک گفت\u001B[0m\n",
      "\u001B[1mhttps://www.farsnews.ir/news/14001006000090/رئیس-دیوان-محاسبات-میلاد-حضرت-مسیح-و-آغاز-سال-جدید-میلادی-را-تبریک-گفت\u001B[0m\n",
      "به گزارش حوزه پارلمانی خبرگزاری فارس، مهرداد بذرپاش رئیس کل دیوان محاسبات با ارسال پیام های جداگانه به روسای دیوان محاسبات کشورهای مختلف از جمله روسیه (رئیس سازمان اینتوسای)، اتریش (دبیرخانه سازمان اینتوسای)، نروژ (رئیس موسسه پیشگام توسعه اینتوسای)، بلژیک، فنلاند (رئیس کارگروه زیست محیطی اینتوسای)، فرانسه، تایلند (رئیس سازمان آسوسای)، ویتنام، هند (رئیس کارگروه حسابرسی فناوری اطلاعات اینتوسای)، ایتالیا، ژاپن، قزاقستان (رئیس سازمان اکوسای)، هلند، فلسطین، پرو (رئیس کمیته فرعی حسابرسی مشارکتی اینتوسای)، پرتغال، اوکراین، گرجستان، اریتره، بلیز، کوزوو، مولداوی، رواندا، ساموآ و اوروگوئه، عید میلاد حضرت مسیح و آغاز سال ۲۰۲۲ میلادی را تبریک گفت. در پیام تبریک رئیس کل دیوان محاسبات جمهوری اسلامی ایران به روسای دیوان محاسبات در بیش از ۱۰۰ کشور جهان آمده است: با عنایت به نزدیک شدن شروع سال جدید میلادی (۲۰۲۲)، فرصت را غنیمت شمرده و به شما تبریک عرض می کنم و آرزوی جهانی عاری از ظلم و ستم و سرشار از عدالت، معنویت، آرامش و سلامتی برای همه بشریت دارم. انتهای پیام/\n",
      "\n"
     ]
    },
    {
     "name": "stderr",
     "output_type": "stream",
     "text": [
      "\n"
     ]
    }
   ],
   "source": [
    "query_text = \"پرو\"\n",
    "similarity_function = 'cosine'\n",
    "k = 10\n",
    "query1 = query(query_text, similarity_function, k)"
   ],
   "metadata": {
    "collapsed": false,
    "ExecuteTime": {
     "end_time": "2024-01-31T17:07:57.039543Z",
     "start_time": "2024-01-31T17:07:56.989631Z"
    }
   }
  },
  {
   "cell_type": "code",
   "execution_count": 63,
   "outputs": [
    {
     "name": "stderr",
     "output_type": "stream",
     "text": [
      "Calculating Similarity: 100%|██████████| 12202/12202 [00:00<00:00, 752221.55it/s]"
     ]
    },
    {
     "name": "stdout",
     "output_type": "stream",
     "text": [
      "Execution Time: 0.0187 seconds\n",
      "Top 10 documents most relevant to the query:\n",
      "\n",
      "Rank 1\n",
      "Document ID: 3342\n",
      "Similarity Score: 0.2298\n",
      "\u001B[1mآغاز سومین اردوی المپیکی تیم ملی والیبال ساحلی ناشنوایان در قشم\u001B[0m\n",
      "\u001B[1mhttps://www.farsnews.ir/news/14001110000291/آغاز-سومین-اردوی-المپیکی-تیم-ملی-والیبال-ساحلی-ناشنوایان-در-قشم\u001B[0m\n",
      "\n",
      "\n",
      "Rank 2\n",
      "Document ID: 10839\n",
      "Similarity Score: 0.2274\n",
      "\u001B[1mنادری: اتاق بازرگانی ایران و برزیل به منظور گسترش روابط اقتصادی دو کشور افتتاح شد\u001B[0m\n",
      "\u001B[1mhttps://www.farsnews.ir/news/14000828000423/نادری- اتاق بازرگانی ایران و برزیل به\u001B[0m\n",
      "\n",
      "\n",
      "Rank 3\n",
      "Document ID: 2459\n",
      "Similarity Score: 0.2186\n",
      "\u001B[1mرده بندی جدید فیفا | ایران همچنان در قله آسیا +عکس\u001B[0m\n",
      "\u001B[1mhttps://www.farsnews.ir/news/14001121000322/رده-بندی-جدید-فیفا-|-ایران-همچنان-در-قله-آسیا-عکس\u001B[0m\n",
      "به گزارش خبرگزاری فارس، در جدید ترین رده بندی فیفا، تیم ملی فوتبال کشورمان بدون تغییر در جایگاه بیست و یکم دنیا قرار گرفت. تیم ملی فوتبال کشورمان در این دوره از بازی‌های ملی مقابل امارات و عراق به برتری رسید و توانست امتیازهای خود را به عدد 1572.89 برساند. ایران همچنان در رده اول آسیا قرار دارد.  تیم ملی بلژیک، برزیل، فرانسه، آرژانتین و انگلیس همچنان در رده‌های اول تا پنجم قرار دارند. رنکنیگ فوتبال به شکل زیر است:     انتهای پیام/\n",
      "\n",
      "Rank 4\n",
      "Document ID: 2114\n",
      "Similarity Score: 0.2151\n",
      "\u001B[1mفیفا رای دیدار جنجالی تیم های فوتبال برزیل و آرژانتین را اعلام کرد\u001B[0m\n",
      "\u001B[1mhttps://www.farsnews.ir/news/14001125000917/فیفا-رای-دیدار-جنجالی-تیم-های-فوتبال-برزیل-و-آرژانتین-را-اعلام-کرد\u001B[0m\n",
      "به گزارش خبرگزاری فارس، در حدود 6 ماه پیش بود که دیدار تیم های برزیل و آرژانتین در رقابت های مقدماتی راه یابی به جام جهانی فوتبال در شرایطی که 6 دقیقه از آن شروع شده بود، به دلیل حضور نیروهای امنیتی در داخل زمین، لغو شد. دلیل حضور نیروهای امنیتی در زمین عدم رعایت قوانین قرنطینه 14 روزه کشور برزیل توسط برخی از بازیکنان تیم ملی فوتبال آرژانتین اعلام شد که آن ها مدعی بودند درباره مقررات مربوطه دروغ گفته اند. پس از این اتفاق جنجالی، فیفا رای مربوط به این دیدار را اعلام کرد که بر این اساس مقرر شده است که بازی تیم های برزیل و آرژانتین در مقدماتی جام جهانی باید بار دیگر برگزار گردد. بر این اساس فدراسیون فوتبال برزیل در این پرونده 477 هزار یورو جریمه است و فدراسیون فوتبال آرژانتین هم باید جریمه 190 هزار یورویی (200 هزار فرانک سوئیس) پرداخت کند. 4 بازیکن تیم ملی فوتبال آرژانتین به نام های لوسلسو، رومرو، امیلیانو مارتینز و امیلیانو بوئندیا از 2 مسابقه محروم شده اند. انتهای پیام/\n",
      "\n",
      "Rank 5\n",
      "Document ID: 405\n",
      "Similarity Score: 0.2136\n",
      "\u001B[1mشوخی سالزبورگ پس از شکست مقابل بایرن با طعنه به تیم ملی برزیل +عکس\u001B[0m\n",
      "\u001B[1mhttps://www.farsnews.ir/news/14001218000647/شوخی-سالزبورگ-پس-از-شکست-مقابل-بایرن-با-طعنه-به-تیم-ملی-برزیل-عکس\u001B[0m\n",
      "به گزارش خبرگزاری فارس، شب گذشته در چارچوب دور برگشت یک هشتم نهایی لیگ قهرمانان اروپا، بایرن مونیخ به مصاف سالزبورگ رفت و به برتری پرگل 7 بر یک رسید. سالزبورگ پس از این شکست شوخی جالبی با تیم ملی برزیل کرد و خاطره تلخ ماراکانا برای برزیلی‌ها را زنده کرد. در جام جهانی 2014 در نیمه نهایی، تیم ملی برزیل در خانه مقابل تیم ملی آلمان 7 بر یک شکست خورد تا عنوان سنگین ترین شکست تاریخ نیمه‌ نهایی های جام جهانی را به نام خود ثبت کند. سالزبورگ پس از این اتفاق، خود به برزیلی‌ها تشبیه کرد و با استفاده از عکس معروف جام جهانی 2014  نوشت: همیشه پای آلمانی‌ها وسط است!  انتهای پیام/\n",
      "\n",
      "Rank 6\n",
      "Document ID: 4630\n",
      "Similarity Score: 0.2102\n",
      "\u001B[1mبمب خبری AS؛ احتمال حضور رونالدو در لیگ برزیل+عکس\u001B[0m\n",
      "\u001B[1mhttps://www.farsnews.ir/news/14001025000107/بمب-خبری-AS-احتمال-حضور-رونالدو-در-لیگ-برزیل-عکس\u001B[0m\n",
      "به گزارش خبرگزاری فارس، نشریه «AS» اسپانیا در توئیتی با عنوان بمب خبری اعلام کرد کریستیانو رونالدو فوق ستاره پرتغالی شیاطین سرخ احتمال حضورش در لیگ فوتبال برزیل را رد نکرد. این نشریه مادریدی به نقل از رونالدو، نوشت: آنچه که می توانم با اطمینان مطلق بگویم این است که برزیل کشوری دوست است. خواهرم در برزیل زندگی می کند و با یک برزیلی ازدواج کرده است.  کاپیتان تیم ملی پرتغال ادامه داد: من دوره های تغذیه ام را با برزیلی ها می گذرانم. برزیل کشوری است که برای آن احترام زیادی قائل هستم.  رونالدو بعد از سال ها درخشش در رئال در سال 2018 به یوونتوس رفت. فوق ستاره پرتغالی بعد از 3 سال تورین را به مقصد منچستر ترک کرد تابستان گذشته به اولدترافورد برگشت ولی اوضاع در تئاتر رویاها بر وفق مراد رونالدو نیست و شیاطین سرخ نمی توانند نتیجه خوبی بگیرند. انتهای پیام/  \n",
      "\n",
      "Rank 7\n",
      "Document ID: 171\n",
      "Similarity Score: 0.2077\n",
      "\u001B[1mآغاز هفتمین اردوی آماده سازی تیم ملی فوتبال ناشنوایان در تهران\u001B[0m\n",
      "\u001B[1mhttps://www.farsnews.ir/news/14001221001092/آغاز-هفتمین-اردوی-آماده-سازی-تیم-ملی-فوتبال-ناشنوایان-در-تهران\u001B[0m\n",
      "به گزارش خبرگزاری فارس، ۲۴ فوتبالیست ناشنوای دعوت شده به هفتمین اردوی آماده سازی تیم ملی فوتبال ناشنوایان جهت حضور در  المپیک تابستانی ناشنوایان در برزیل، از امروز شنبه - ۲۱ اسفند ماه ۱۴۰۰ به یک هفته در مجموعه ورزشی فدراسیون ناشنوایان تهران تمرینات خود را زیرنظر کادرفنی آغاز کردند. قادر تیموری سرمربیگری تیم ملی فوتبال ناشنوایان را برعهده دارد و به همراه کادرفنی فوتبالیست های ناشنوا را هدایت و همراهی می‌کند. ۲۴ امین دوره المپیک تابستانی ۲۰۲۱ ناشنوایان،  اردیبهشت ماه ۱۴۰۱در کاشیاس دو سول برزیل برگزار می گردد. انتهای پیام/\n",
      "\n",
      "Rank 8\n",
      "Document ID: 1832\n",
      "Similarity Score: 0.2009\n",
      "\u001B[1mتهران میزبان سومین اردوی آماده سازی تیم ملی جودو ناشنوایان\u001B[0m\n",
      "\u001B[1mhttps://www.farsnews.ir/news/14001130000458/تهران-میزبان-سومین-اردوی-آماده-سازی-تیم-ملی-جودو-ناشنوایان\u001B[0m\n",
      "\n",
      "\n",
      "Rank 9\n",
      "Document ID: 10180\n",
      "Similarity Score: 0.1985\n",
      "\u001B[1mبررسی تهاتر محصولات نفتی با نهاده‌های دامی بین ایران و برزیل در کمیسیون کشاورزی\u001B[0m\n",
      "\u001B[1mhttps://www.farsnews.ir/news/14000914000751/بررسی-تهاتر-محصولات-نفتی-با-نهاده‌های-دامی-بین-ایران-و-برزیل-در\u001B[0m\n",
      "\n",
      "\n",
      "Rank 10\n",
      "Document ID: 1002\n",
      "Similarity Score: 0.1972\n",
      "\u001B[1mتاریخ سازی دوباره دختر تاریخ ساز تنیس\u001B[0m\n",
      "\u001B[1mhttps://www.farsnews.ir/news/14001210000231/تاریخ-سازی-دوباره-دختر-تاریخ-ساز-تنیس\u001B[0m\n",
      "\n",
      "\n"
     ]
    },
    {
     "name": "stderr",
     "output_type": "stream",
     "text": [
      "\n"
     ]
    }
   ],
   "source": [
    "query_text = \"برزیل ارژانتین\"\n",
    "similarity_function = 'cosine'\n",
    "k = 10\n",
    "query1 = query(query_text, similarity_function, k)"
   ],
   "metadata": {
    "collapsed": false,
    "ExecuteTime": {
     "end_time": "2024-01-31T17:10:08.083893Z",
     "start_time": "2024-01-31T17:10:08.041878Z"
    }
   }
  },
  {
   "cell_type": "markdown",
   "source": [
    "# Evaluation"
   ],
   "metadata": {}
  },
  {
   "cell_type": "markdown",
   "source": [
    "## Memory usage"
   ],
   "metadata": {}
  },
  {
   "cell_type": "code",
   "source": [
    "import sys\n",
    "\n",
    "def size_of_obj(obj):\n",
    "    return sys.getsizeof(obj)\n",
    "\n",
    "# Usage\n",
    "size_mb = size_of_obj(inverted_index) / (1024 * 1024)\n",
    "print(f\"Total memory usage of dictionary part: {size_mb:.2f} MB\")"
   ],
   "metadata": {
    "execution": {
     "iopub.status.busy": "2024-01-29T08:02:37.913017Z",
     "iopub.execute_input": "2024-01-29T08:02:37.913386Z",
     "iopub.status.idle": "2024-01-29T08:02:42.960768Z",
     "shell.execute_reply.started": "2024-01-29T08:02:37.913358Z",
     "shell.execute_reply": "2024-01-29T08:02:42.960115Z"
    },
    "trusted": true,
    "ExecuteTime": {
     "end_time": "2024-01-31T15:08:34.968702Z",
     "start_time": "2024-01-31T15:08:34.953966Z"
    }
   },
   "execution_count": 37,
   "outputs": [
    {
     "name": "stdout",
     "output_type": "stream",
     "text": [
      "Total memory usage of dictionary part: 2.50 MB\n"
     ]
    }
   ]
  },
  {
   "cell_type": "markdown",
   "source": [
    "## High & low idf"
   ],
   "metadata": {}
  },
  {
   "cell_type": "code",
   "source": [
    "from heapq import nlargest, nsmallest\n",
    "\n",
    "def find_extreme_idf_terms(doc_freq, N, top_k=3):\n",
    "    idf_values = {term: math.log(N / freq, 10) for term, freq in doc_freq.items()}\n",
    "\n",
    "    # Find the terms with the highest IDF values\n",
    "    top_terms = nlargest(top_k, idf_values, key=idf_values.get)\n",
    "\n",
    "    # Find the terms with the lowest IDF values\n",
    "    bottom_terms = nsmallest(top_k, idf_values, key=idf_values.get)\n",
    "\n",
    "    return top_terms, bottom_terms"
   ],
   "metadata": {
    "execution": {
     "iopub.status.busy": "2024-01-29T07:57:21.234039Z",
     "iopub.execute_input": "2024-01-29T07:57:21.235048Z",
     "iopub.status.idle": "2024-01-29T07:57:21.241545Z",
     "shell.execute_reply.started": "2024-01-29T07:57:21.235008Z",
     "shell.execute_reply": "2024-01-29T07:57:21.240505Z"
    },
    "trusted": true,
    "ExecuteTime": {
     "end_time": "2024-01-31T15:08:41.789055Z",
     "start_time": "2024-01-31T15:08:41.715657Z"
    }
   },
   "execution_count": 38,
   "outputs": []
  },
  {
   "cell_type": "code",
   "source": [
    "top_terms, bottom_terms = find_extreme_idf_terms(doc_freq, N)\n",
    "print(\"Top 3 terms with highest IDF:\", top_terms)\n",
    "print(\"Bottom 3 terms with lowest IDF:\", bottom_terms)"
   ],
   "metadata": {
    "execution": {
     "iopub.status.busy": "2024-01-29T07:57:21.243532Z",
     "iopub.execute_input": "2024-01-29T07:57:21.244044Z",
     "iopub.status.idle": "2024-01-29T07:57:21.304206Z",
     "shell.execute_reply.started": "2024-01-29T07:57:21.244018Z",
     "shell.execute_reply": "2024-01-29T07:57:21.303225Z"
    },
    "trusted": true,
    "ExecuteTime": {
     "end_time": "2024-01-31T15:08:41.884969Z",
     "start_time": "2024-01-31T15:08:41.742466Z"
    }
   },
   "execution_count": 39,
   "outputs": [
    {
     "name": "stdout",
     "output_type": "stream",
     "text": [
      "Top 3 terms with highest IDF: ['۸اسلوونی', '۴فرانسه', '۱۴تونس']\n",
      "Bottom 3 terms with lowest IDF: ['کرد&کن', 'خبرنگار', 'شد&شو']\n"
     ]
    }
   ]
  },
  {
   "cell_type": "markdown",
   "source": [
    "## Saving with pickle"
   ],
   "metadata": {}
  },
  {
   "cell_type": "code",
   "source": [
    "import pickle\n",
    "\n",
    "# Assuming all your data structures are already filled with the data\n",
    "\n",
    "# Save all objects into one file\n",
    "with open('data_structures.pkl', 'wb') as file:\n",
    "    pickle.dump({\n",
    "        'tokenized': tokenized,\n",
    "        'removed_tokenized': removed_tokenized,\n",
    "        'stemmed_tokenized': stemmed_tokenized,\n",
    "        'inverted_index': inverted_index,\n",
    "        'champion_lists': champion_lists,\n",
    "        'vectorized_docs': vectorized_docs,\n",
    "        'weights_docs': weights_docs,\n",
    "        'doc_freq': doc_freq,\n",
    "        'N': N,\n",
    "        'vectorized_champ': vectorized_champ,\n",
    "        'weights_champ': weights_champ,\n",
    "        'champ_freq': champ_freq,\n",
    "        'N_champ': N_champ\n",
    "    }, file)\n",
    "\n",
    "print('All data structures have been saved to data_structures.pkl')"
   ],
   "metadata": {
    "execution": {
     "iopub.status.busy": "2024-01-29T07:57:21.717590Z",
     "iopub.execute_input": "2024-01-29T07:57:21.718108Z",
     "iopub.status.idle": "2024-01-29T07:57:25.876925Z",
     "shell.execute_reply.started": "2024-01-29T07:57:21.718066Z",
     "shell.execute_reply": "2024-01-29T07:57:25.874924Z"
    },
    "trusted": true,
    "ExecuteTime": {
     "end_time": "2024-01-31T15:08:47.140947Z",
     "start_time": "2024-01-31T15:08:42.246593Z"
    }
   },
   "execution_count": 45,
   "outputs": [
    {
     "name": "stdout",
     "output_type": "stream",
     "text": [
      "All data structures have been saved to data_structures.pkl\n"
     ]
    }
   ]
  },
  {
   "cell_type": "markdown",
   "source": [
    "## Loading with pickle"
   ],
   "metadata": {}
  },
  {
   "cell_type": "code",
   "source": [
    "import pickle\n",
    "\n",
    "# Load all objects from the pickle file\n",
    "with open('data_structures.pkl', 'rb') as file:\n",
    "    data_structures = pickle.load(file)\n",
    "\n",
    "# Extracting each data structure\n",
    "tokenized = data_structures['tokenized']\n",
    "removed_tokenized = data_structures['removed_tokenized']\n",
    "stemmed_tokenized = data_structures['stemmed_tokenized']\n",
    "inverted_index = data_structures['inverted_index']\n",
    "champion_lists = data_structures['champion_lists']\n",
    "vectorized_docs = data_structures['vectorized_docs']\n",
    "weights_docs = data_structures['weights_docs']\n",
    "doc_freq = data_structures['doc_freq']\n",
    "N = data_structures['N']\n",
    "vectorized_champ = data_structures['vectorized_champ']\n",
    "weights_champ = data_structures['weights_champ']\n",
    "champ_freq = data_structures['champ_freq']\n",
    "N_champ = data_structures['N_champ']\n",
    "\n",
    "print('All data structures have been loaded from data_structures.pkl')"
   ],
   "metadata": {
    "execution": {
     "iopub.status.busy": "2024-01-29T07:58:25.378516Z",
     "iopub.execute_input": "2024-01-29T07:58:25.378934Z",
     "iopub.status.idle": "2024-01-29T07:58:34.702125Z",
     "shell.execute_reply.started": "2024-01-29T07:58:25.378901Z",
     "shell.execute_reply": "2024-01-29T07:58:34.700713Z"
    },
    "trusted": true,
    "ExecuteTime": {
     "end_time": "2024-01-31T15:09:02.486203Z",
     "start_time": "2024-01-31T15:08:47.143731Z"
    }
   },
   "execution_count": 46,
   "outputs": [
    {
     "name": "stdout",
     "output_type": "stream",
     "text": [
      "All data structures have been loaded from data_structures.pkl\n"
     ]
    }
   ]
  }
 ]
}
